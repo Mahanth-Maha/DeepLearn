{
 "cells": [
  {
   "cell_type": "markdown",
   "metadata": {},
   "source": [
    "# Conv Nets"
   ]
  },
  {
   "cell_type": "code",
   "execution_count": 5,
   "metadata": {},
   "outputs": [],
   "source": [
    "import numpy as np \n",
    "import pandas as pd \n",
    "import matplotlib.pyplot as plt\n",
    "import seaborn as sns\n",
    "import torch\n",
    "import torch.nn as nn\n",
    "import torch.optim as optim\n",
    "from torch.utils.data import Dataset, DataLoader\n"
   ]
  },
  {
   "cell_type": "code",
   "execution_count": 23,
   "metadata": {},
   "outputs": [],
   "source": [
    "data_folder = './../Data/cifar/cifar-10/'\n",
    "Xtr = np.load(data_folder + 'Xtr.npy')\n",
    "ytr = np.load(data_folder + 'ytr.npy')\n",
    "Xte = np.load(data_folder + 'Xte.npy')\n",
    "yte = np.load(data_folder + 'yte.npy')\n",
    "labels = read_dictionary = np.load(data_folder + 'labels_dict.npy',allow_pickle='TRUE').item()\n",
    "true_shape = (32, 32, 3)\n",
    "# transpose to (1,2,0)\n",
    "n = int(Xtr.shape[0]*0.8)\n",
    "Xtr , Xval = Xtr[:n] , Xtr[n:]\n",
    "ytr , yval = ytr[:n] , ytr[n:]\n",
    "\n",
    "class CIFARDataset(Dataset):\n",
    "    def __init__(self, X, y):\n",
    "        self.X = torch.tensor(X, dtype=torch.float32)\n",
    "        self.y = torch.tensor(y, dtype=torch.long)\n",
    "    \n",
    "    def __len__(self):\n",
    "        return len(self.X)\n",
    "    \n",
    "    def __getitem__(self, idx):\n",
    "        x = self.X[idx].reshape(true_shape).permute(2, 0, 1)\n",
    "        return x, self.y[idx]\n",
    "\n",
    "\n",
    "train_dataset = CIFARDataset(Xtr, ytr)\n",
    "val_dataset = CIFARDataset(Xval, yval)\n",
    "test_dataset = CIFARDataset(Xte, yte)\n",
    "\n",
    "\n",
    "train_loader = DataLoader(train_dataset, batch_size=64, shuffle=True)\n",
    "val_loader = DataLoader(val_dataset, batch_size=64, shuffle=False)\n",
    "test_loader = DataLoader(test_dataset, batch_size=64, shuffle=False)"
   ]
  },
  {
   "cell_type": "markdown",
   "metadata": {},
   "source": [
    "# Forward Pass"
   ]
  },
  {
   "cell_type": "code",
   "execution_count": 139,
   "metadata": {},
   "outputs": [
    {
     "data": {
      "text/plain": [
       "torch.Size([64, 10, 32, 32])"
      ]
     },
     "execution_count": 139,
     "metadata": {},
     "output_type": "execute_result"
    }
   ],
   "source": [
    "class CNN_Layer(nn.Module):\n",
    "    def __init__(self, n_channels, input_size, filter_size, stride, padding, kernals):\n",
    "        super(CNN_Layer, self).__init__()\n",
    "        self.n_channels = n_channels # C ( = D1)\n",
    "        self.input_size = input_size # N ( = W = H) \n",
    "        self.filter_size = filter_size # F\n",
    "        self.stride = stride # S\n",
    "        self.padding = padding # P \n",
    "        self.kernals = kernals # K ( = D2)\n",
    "\n",
    "        # filter = torch.rand(self.filter_size, self.filter_size , self.n_channels)\n",
    "        # print(filter.shape)\n",
    "        self.filters = nn.Parameter(torch.rand(self.kernals, self.n_channels, self.filter_size, self.filter_size)) # (K, C, F, F)\n",
    "        self.biases = nn.Parameter(torch.rand(self.kernals)) # (K)\n",
    "        # print(self.filters.shape , self.biases.shape)\n",
    "        self.parameters_count = self.filters.numel() + self.biases.numel()\n",
    "        # print(self.parameters_count)\n",
    "        \n",
    "        \n",
    "    def forward(self, x):\n",
    "        # p = x[0, :, :, :].detach().numpy()\n",
    "        # plt.imshow(p.astype(int).reshape(3, 32, 32).transpose(1,2, 0))\n",
    "        # plt.show()\n",
    "        \n",
    "        # print(f'{x.shape = }') # (B, C, N, N)\n",
    "        activation_size = int((self.input_size + 2 * self.padding - self.filter_size)/self.stride) + 1  # N2 ( = W2 = H2)\n",
    "        # print(activation_size) # N2 \n",
    "        activations = torch.zeros(x.shape[0], self.kernals, activation_size, activation_size) # (B, K, N2, N2) \n",
    "        # print(f'{activations.shape = }')\n",
    "        \n",
    "        if self.padding > 0:\n",
    "            x2 = torch.zeros(x.shape[0], self.n_channels, self.input_size + 2 * self.padding, self.input_size + 2 * self.padding)\n",
    "            # print(x2.shape) # (B, C, N + 2P, N + 2P) \n",
    "            x2[:, :, self.padding:self.input_size+self.padding, self.padding:self.input_size+self.padding] = x \n",
    "            # t = x2[0, :, :, :].detach().numpy()\n",
    "            # plt.imshow(t.astype(int).reshape(3, 34, 34).transpose(1,2, 0))\n",
    "            # plt.show()\n",
    "            x = x2\n",
    "        \n",
    "        # moves = int((self.input_size - self.filter_size)/self.stride) + 1\n",
    "        # print(moves) \n",
    "        \n",
    "        for i in range(self.input_size):\n",
    "            for j in range(self.input_size):\n",
    "                x_slice = x[:, :, i*self.stride:i*self.stride + self.filter_size, j*self.stride:j*self.stride + self.filter_size]\n",
    "                # print(f'{x_slice.shape = }') # (B, C, F, F)\n",
    "                x_slice = x_slice.unsqueeze(1) \n",
    "                # print(f'{x_slice.shape = }')\n",
    "                # print(f'{self.filters.shape = }')\n",
    "                # print(f'{self.biases.shape = }')\n",
    "                convolute_dot = torch.sum(x_slice * self.filters, dim=(2,3,4)) # (B, 1, C, F, F) * ( K, C, F, F) -> (B, K, C, F, F) sum-> (B, K)\n",
    "                # print(f'{convolute_dot.shape = }')\n",
    "                # print(f'{activations[:, :, i, j].shape = }')\n",
    "                activations[:, :, i, j] = convolute_dot + self.biases  # (B, K) + (K) -> (B, K) \n",
    "                # print(f'{activations[:2, :2, i, j]= }')\n",
    "\n",
    "        return activations\n",
    "        \n",
    "cnn_layer = CNN_Layer(\n",
    "    n_channels = 3, \n",
    "    input_size = 32, \n",
    "    filter_size = 5,\n",
    "    stride = 1,\n",
    "    padding = 2,\n",
    "    kernals = 10\n",
    "    )\n",
    "Xbtr , ybtr = next(iter(train_loader))\n",
    "# print(Xbtr.shape, ybtr.shape)\n",
    "\n",
    "activ = cnn_layer(Xbtr)\n",
    "activ.shape"
   ]
  },
  {
   "cell_type": "code",
   "execution_count": 127,
   "metadata": {},
   "outputs": [
    {
     "data": {
      "text/plain": [
       "torch.Size([64, 10, 32, 32])"
      ]
     },
     "execution_count": 127,
     "metadata": {},
     "output_type": "execute_result"
    }
   ],
   "source": [
    "class ReLU_Layer(nn.Module):\n",
    "    def __init__(self):\n",
    "        super(ReLU_Layer, self).__init__()\n",
    "    \n",
    "    def forward(self, x):\n",
    "        return torch.max(x, torch.zeros_like(x))\n",
    "\n",
    "relu_layer = ReLU_Layer()\n",
    "activ2 = relu_layer(activ)\n",
    "activ2.shape"
   ]
  },
  {
   "cell_type": "code",
   "execution_count": 145,
   "metadata": {},
   "outputs": [
    {
     "name": "stdout",
     "output_type": "stream",
     "text": [
      "torch.Size([64, 10, 32, 32])\n"
     ]
    },
    {
     "data": {
      "text/plain": [
       "torch.Size([64, 10, 16, 16])"
      ]
     },
     "execution_count": 145,
     "metadata": {},
     "output_type": "execute_result"
    }
   ],
   "source": [
    "class MaxPool_Layer(nn.Module):\n",
    "    def __init__(self, input_size, filter_size, stride):\n",
    "        super(MaxPool_Layer, self).__init__()\n",
    "        self.input_size = input_size # N ( = W = H)\n",
    "        self.filter_size = filter_size # F\n",
    "        self.stride = stride # S\n",
    "        self.output_size = int((self.input_size - self.filter_size)/self.stride) + 1 # N2 ( = W2 = H2)\n",
    "        self.parameters_count = 0 \n",
    "        \n",
    "    def forward(self, x):\n",
    "        pool = torch.zeros(x.shape[0], x.shape[1], self.output_size, self.output_size)\n",
    "        # print(f'{pool.shape = }')\n",
    "        for i in range(self.output_size):\n",
    "            for j in range(self.output_size):\n",
    "                x_slice = x[:, :, i*self.stride:i*self.stride + self.filter_size, j*self.stride:j*self.stride + self.filter_size]\n",
    "                # print(f'{x_slice.shape = }') # (B, K, F, F) \n",
    "                x_slice = x_slice.reshape(x.shape[0], x.shape[1], -1) # (B, K, F*F) \n",
    "                # print(f'{x_slice.shape = }')\n",
    "                max_pool = torch.max(x_slice, dim=2).values # (B, K)\n",
    "                # print(f'{max_pool.shape = }') \n",
    "                pool[:, :, i, j] = max_pool \n",
    "                # print(x_slice[0, :, :])\n",
    "                # print(max_pool[0]) \n",
    "                # print(pool[0, :, i, j])\n",
    "\n",
    "        return pool\n",
    "    \n",
    "maxpool_layer = MaxPool_Layer(\n",
    "    input_size = 32,\n",
    "    filter_size = 2,\n",
    "    stride = 2\n",
    "    )\n",
    "print(activ2.shape)\n",
    "pool = maxpool_layer(activ2)\n",
    "pool.shape"
   ]
  },
  {
   "cell_type": "code",
   "execution_count": 153,
   "metadata": {},
   "outputs": [
    {
     "name": "stdout",
     "output_type": "stream",
     "text": [
      "-------SUBNET-------\n",
      "INP  x.shape = torch.Size([64, 3, 32, 32])\n",
      "CONV x.shape = torch.Size([64, 10, 32, 32])\n",
      "RELU x.shape = torch.Size([64, 10, 32, 32])\n",
      "CONV x.shape = torch.Size([64, 10, 32, 32])\n",
      "RELU x.shape = torch.Size([64, 10, 32, 32])\n",
      "POOL x.shape = torch.Size([64, 10, 16, 16])\n"
     ]
    },
    {
     "data": {
      "text/plain": [
       "torch.Size([64, 10, 16, 16])"
      ]
     },
     "execution_count": 153,
     "metadata": {},
     "output_type": "execute_result"
    }
   ],
   "source": [
    "class cifarSubNet(nn.Module):\n",
    "    def __init__(self, C, N, F1, S1, P1, K1, F2, S2):\n",
    "        super(cifarSubNet, self).__init__()\n",
    "        self.cnn_layer = CNN_Layer(\n",
    "            n_channels = C, \n",
    "            input_size = N, \n",
    "            filter_size = F1,\n",
    "            stride = S1,\n",
    "            padding = P1,\n",
    "            kernals = K1\n",
    "            )\n",
    "        self.relu_layer = ReLU_Layer()\n",
    "        self.cnn_layer2 = CNN_Layer(\n",
    "            n_channels = K1,\n",
    "            input_size = N, \n",
    "            filter_size = F1,\n",
    "            stride = S1,\n",
    "            padding = P1,\n",
    "            kernals = K1\n",
    "            )\n",
    "        self.relu_layer2 = ReLU_Layer()\n",
    "        self.maxpool_layer = MaxPool_Layer(\n",
    "            input_size = N,\n",
    "            filter_size = F2,\n",
    "            stride = S2 \n",
    "            )\n",
    "        self.parameters_count = self.cnn_layer.parameters_count + self.maxpool_layer.parameters_count \n",
    "        \n",
    "    def forward(self, x):\n",
    "        print(f'-------SUBNET-------')\n",
    "        print(f'INP  {x.shape = }')\n",
    "        x = self.cnn_layer(x)\n",
    "        print(f'CONV {x.shape = }')\n",
    "        x = self.relu_layer(x)\n",
    "        print(f'RELU {x.shape = }')\n",
    "        x = self.cnn_layer2(x)\n",
    "        print(f'CONV {x.shape = }')\n",
    "        x = self.relu_layer2(x)\n",
    "        print(f'RELU {x.shape = }')\n",
    "        x = self.maxpool_layer(x)\n",
    "        print(f'POOL {x.shape = }')\n",
    "        return x\n",
    "\n",
    "cifar_subnet = cifarSubNet(\n",
    "    C = 3, \n",
    "    N = 32,\n",
    "    F1 = 5,\n",
    "    S1 = 1,\n",
    "    P1 = 2,\n",
    "    K1 = 10,\n",
    "    F2 = 2,\n",
    "    S2 = 2\n",
    "    )\n",
    "\n",
    "Xbtr , ybtr = next(iter(train_loader))\n",
    "subnet_activ = cifar_subnet(Xbtr)\n",
    "subnet_activ.shape"
   ]
  },
  {
   "cell_type": "code",
   "execution_count": 165,
   "metadata": {},
   "outputs": [
    {
     "data": {
      "text/plain": [
       "torch.Size([64, 40])"
      ]
     },
     "execution_count": 165,
     "metadata": {},
     "output_type": "execute_result"
    },
    {
     "data": {
      "text/plain": [
       "torch.Size([64, 10])"
      ]
     },
     "execution_count": 165,
     "metadata": {},
     "output_type": "execute_result"
    }
   ],
   "source": [
    "class FullyConnected_Layer(nn.Module):\n",
    "    def __init__(self, input_size, output_size):\n",
    "        super(FullyConnected_Layer, self).__init__()\n",
    "        self.input_size = input_size\n",
    "        self.output_size = output_size\n",
    "        self.weights = nn.Parameter(torch.rand(self.input_size, self.output_size))\n",
    "        self.biases = nn.Parameter(torch.rand(self.output_size))\n",
    "        self.parameters_count = self.weights.numel() + self.biases.numel()\n",
    "        \n",
    "    def forward(self, x):\n",
    "        # print(f'{x.shape = }')\n",
    "        x = x.reshape(x.shape[0], -1)\n",
    "        # print(f'{x.shape = }')\n",
    "        return torch.mm(x, self.weights) + self.biases\n",
    "    \n",
    "fc_layer = FullyConnected_Layer(\n",
    "    input_size = subnet_activ.shape[1]*subnet_activ.shape[2]*subnet_activ.shape[3],\n",
    "    output_size = 40\n",
    "    )\n",
    "\n",
    "fc_activ = fc_layer(subnet_activ)\n",
    "fc_activ.shape\n",
    "\n",
    "fc_layer2 = FullyConnected_Layer(\n",
    "    input_size = 10*4,\n",
    "    output_size = 10\n",
    "    )\n",
    "\n",
    "fc_activ2 = fc_layer2(fc_activ)\n",
    "fc_activ2.shape"
   ]
  },
  {
   "cell_type": "code",
   "execution_count": 166,
   "metadata": {},
   "outputs": [
    {
     "data": {
      "text/plain": [
       "tensor([1.4169e+10, 1.2616e+10, 1.4106e+10, 1.0178e+10, 1.3369e+10, 1.4128e+10,\n",
       "        1.6455e+10, 1.3351e+10, 1.3239e+10, 1.3133e+10],\n",
       "       grad_fn=<SelectBackward0>)"
      ]
     },
     "execution_count": 166,
     "metadata": {},
     "output_type": "execute_result"
    }
   ],
   "source": [
    "fc_activ2[0]"
   ]
  },
  {
   "cell_type": "code",
   "execution_count": 167,
   "metadata": {},
   "outputs": [
    {
     "name": "stdout",
     "output_type": "stream",
     "text": [
      "INP  x.shape = torch.Size([64, 3, 32, 32])\n",
      "-------SUBNET-------\n",
      "INP  x.shape = torch.Size([64, 3, 32, 32])\n",
      "CONV x.shape = torch.Size([64, 10, 32, 32])\n",
      "RELU x.shape = torch.Size([64, 10, 32, 32])\n",
      "CONV x.shape = torch.Size([64, 10, 32, 32])\n",
      "RELU x.shape = torch.Size([64, 10, 32, 32])\n",
      "POOL x.shape = torch.Size([64, 10, 16, 16])\n",
      "SUB1 x.shape = torch.Size([64, 10, 16, 16])\n",
      "-------SUBNET-------\n",
      "INP  x.shape = torch.Size([64, 10, 16, 16])\n",
      "CONV x.shape = torch.Size([64, 10, 16, 16])\n",
      "RELU x.shape = torch.Size([64, 10, 16, 16])\n",
      "CONV x.shape = torch.Size([64, 10, 16, 16])\n",
      "RELU x.shape = torch.Size([64, 10, 16, 16])\n",
      "POOL x.shape = torch.Size([64, 10, 8, 8])\n",
      "SUB2 x.shape = torch.Size([64, 10, 8, 8])\n",
      "-------SUBNET-------\n",
      "INP  x.shape = torch.Size([64, 10, 8, 8])\n",
      "CONV x.shape = torch.Size([64, 10, 8, 8])\n",
      "RELU x.shape = torch.Size([64, 10, 8, 8])\n",
      "CONV x.shape = torch.Size([64, 10, 8, 8])\n",
      "RELU x.shape = torch.Size([64, 10, 8, 8])\n",
      "POOL x.shape = torch.Size([64, 10, 4, 4])\n",
      "SUB3 x.shape = torch.Size([64, 10, 4, 4])\n",
      "------FC Layers------\n",
      "FC1  x.shape = torch.Size([64, 80])\n",
      "RELU x.shape = torch.Size([64, 80])\n",
      "FC2  x.shape = torch.Size([64, 40])\n",
      "RELU x.shape = torch.Size([64, 40])\n",
      "FC3  x.shape = torch.Size([64, 10])\n"
     ]
    },
    {
     "data": {
      "text/plain": [
       "torch.Size([64, 10])"
      ]
     },
     "execution_count": 167,
     "metadata": {},
     "output_type": "execute_result"
    }
   ],
   "source": [
    "class cifarNet(nn.Module):\n",
    "    def __init__(self, C, N, F1, S1, P1, K1, F2, S2, FC1, FC2, y):\n",
    "        super(cifarNet, self).__init__()\n",
    "        self.subnet1 = cifarSubNet(C, N, F1, S1, P1, K1, F2, S2)\n",
    "        C2 = K1 \n",
    "        N2 = int((N - F2)/S2) + 1 \n",
    "        self.subnet2 = cifarSubNet(C2, N2, F1, S1, P1, K1, F2, S2)\n",
    "        C3 = K1\n",
    "        N3 = int((N2 - F2)/S2) + 1 \n",
    "        self.subnet3 = cifarSubNet(C3, N3, F1, S1, P1, K1, F2, S2)\n",
    "        C4 = K1\n",
    "        N4 = int((N3 - F2)/S2) + 1\n",
    "        self.fc_layer = FullyConnected_Layer(K1 * N4 * N4 , FC1)\n",
    "        self.fc_relu1 = ReLU_Layer()\n",
    "        self.fc_layer2 = FullyConnected_Layer(FC1, FC2)\n",
    "        self.fc_relu2 = ReLU_Layer()\n",
    "        self.fc_layer3 = FullyConnected_Layer(FC2, y)\n",
    "        self.parameters_count = self.subnet1.parameters_count + self.subnet2.parameters_count + self.subnet3.parameters_count  \\\n",
    "            + self.fc_layer.parameters_count + self.fc_layer2.parameters_count + self.fc_layer3.parameters_count\n",
    "        \n",
    "    \n",
    "    def forward(self, x):\n",
    "        print(f'INP  {x.shape = }')\n",
    "        x = self.subnet1(x)\n",
    "        print(f'SUB1 {x.shape = }')\n",
    "        x = self.subnet2(x)\n",
    "        print(f'SUB2 {x.shape = }')\n",
    "        x = self.subnet3(x)\n",
    "        print(f'SUB3 {x.shape = }')        \n",
    "        x = self.fc_layer(x)\n",
    "        print(f'------FC Layers------')\n",
    "        print(f'FC1  {x.shape = }')\n",
    "        x = self.fc_relu1(x)\n",
    "        print(f'RELU {x.shape = }')\n",
    "        x = self.fc_layer2(x)\n",
    "        print(f'FC2  {x.shape = }')\n",
    "        x = self.fc_relu2(x)\n",
    "        print(f'RELU {x.shape = }')\n",
    "        x = self.fc_layer3(x)\n",
    "        print(f'FC3  {x.shape = }')\n",
    "        return x\n",
    "    \n",
    "cifar_net = cifarNet(\n",
    "    C = 3,\n",
    "    N = 32,\n",
    "    F1 = 5,\n",
    "    S1 = 1,\n",
    "    P1 = 2,\n",
    "    K1 = 10,\n",
    "    F2 = 2,\n",
    "    S2 = 2,\n",
    "    FC1 = 80,\n",
    "    FC2 = 40,\n",
    "    y = 10\n",
    "    )\n",
    "\n",
    "Xbtr , ybtr = next(iter(train_loader))\n",
    "net_activ = cifar_net(Xbtr)\n",
    "net_activ.shape"
   ]
  },
  {
   "cell_type": "code",
   "execution_count": 168,
   "metadata": {},
   "outputs": [
    {
     "data": {
      "text/plain": [
       "22310"
      ]
     },
     "execution_count": 168,
     "metadata": {},
     "output_type": "execute_result"
    }
   ],
   "source": [
    "cifar_net.parameters_count"
   ]
  },
  {
   "cell_type": "code",
   "execution_count": 172,
   "metadata": {},
   "outputs": [
    {
     "name": "stdout",
     "output_type": "stream",
     "text": [
      "INP  x.shape = torch.Size([64, 3, 32, 32])\n",
      "-------SUBNET-------\n",
      "INP  x.shape = torch.Size([64, 3, 32, 32])\n",
      "CONV x.shape = torch.Size([64, 10, 32, 32])\n",
      "RELU x.shape = torch.Size([64, 10, 32, 32])\n",
      "CONV x.shape = torch.Size([64, 10, 32, 32])\n",
      "RELU x.shape = torch.Size([64, 10, 32, 32])\n",
      "POOL x.shape = torch.Size([64, 10, 16, 16])\n",
      "SUB1 x.shape = torch.Size([64, 10, 16, 16])\n",
      "-------SUBNET-------\n",
      "INP  x.shape = torch.Size([64, 10, 16, 16])\n",
      "CONV x.shape = torch.Size([64, 10, 16, 16])\n",
      "RELU x.shape = torch.Size([64, 10, 16, 16])\n",
      "CONV x.shape = torch.Size([64, 10, 16, 16])\n",
      "RELU x.shape = torch.Size([64, 10, 16, 16])\n",
      "POOL x.shape = torch.Size([64, 10, 8, 8])\n",
      "SUB2 x.shape = torch.Size([64, 10, 8, 8])\n",
      "-------SUBNET-------\n",
      "INP  x.shape = torch.Size([64, 10, 8, 8])\n",
      "CONV x.shape = torch.Size([64, 10, 8, 8])\n",
      "RELU x.shape = torch.Size([64, 10, 8, 8])\n",
      "CONV x.shape = torch.Size([64, 10, 8, 8])\n",
      "RELU x.shape = torch.Size([64, 10, 8, 8])\n",
      "POOL x.shape = torch.Size([64, 10, 4, 4])\n",
      "SUB3 x.shape = torch.Size([64, 10, 4, 4])\n",
      "------FC Layers------\n",
      "FC1  x.shape = torch.Size([64, 80])\n",
      "RELU x.shape = torch.Size([64, 80])\n",
      "FC2  x.shape = torch.Size([64, 40])\n",
      "RELU x.shape = torch.Size([64, 40])\n",
      "FC3  x.shape = torch.Size([64, 10])\n"
     ]
    },
    {
     "data": {
      "text/plain": [
       "torch.Size([64, 10])"
      ]
     },
     "execution_count": 172,
     "metadata": {},
     "output_type": "execute_result"
    },
    {
     "data": {
      "text/plain": [
       "tensor([0., 0., 0., 1., 0., 0., 0., 0., 0., 0.], grad_fn=<SelectBackward0>)"
      ]
     },
     "execution_count": 172,
     "metadata": {},
     "output_type": "execute_result"
    }
   ],
   "source": [
    "class CIFARClassifier(nn.Module):\n",
    "    def __init__(self, C, N, F1, S1, P1, K1, F2, S2, FC1, FC2, y):\n",
    "        super(CIFARClassifier, self).__init__()\n",
    "        self.cifar_net = cifarNet(C, N, F1, S1, P1, K1, F2, S2, FC1, FC2, y)\n",
    "        self.softmax = nn.Softmax(dim=1)\n",
    "        \n",
    "    def forward(self, x):\n",
    "        x = self.cifar_net(x)\n",
    "        return self.softmax(x) \n",
    "    \n",
    "cifar_classifier = CIFARClassifier(\n",
    "    C = 3,\n",
    "    N = 32,\n",
    "    F1 = 5,\n",
    "    S1 = 1,\n",
    "    P1 = 2,\n",
    "    K1 = 10,\n",
    "    F2 = 2,\n",
    "    S2 = 2,\n",
    "    FC1 = 80,\n",
    "    FC2 = 40,\n",
    "    y = len(labels)\n",
    ")\n",
    "\n",
    "Xbtr , ybtr = next(iter(train_loader))\n",
    "pred = cifar_classifier(Xbtr)\n",
    "pred.shape\n",
    "pred[0]"
   ]
  },
  {
   "cell_type": "code",
   "execution_count": 173,
   "metadata": {},
   "outputs": [
    {
     "data": {
      "text/plain": [
       "(tensor([0., 0., 0., 1., 0., 0., 0., 0., 0., 0.], grad_fn=<SelectBackward0>),\n",
       " tensor(4))"
      ]
     },
     "execution_count": 173,
     "metadata": {},
     "output_type": "execute_result"
    }
   ],
   "source": [
    "pred[0] , ybtr[0]"
   ]
  }
 ],
 "metadata": {
  "kernelspec": {
   "display_name": "iisc",
   "language": "python",
   "name": "iisc"
  },
  "language_info": {
   "codemirror_mode": {
    "name": "ipython",
    "version": 3
   },
   "file_extension": ".py",
   "mimetype": "text/x-python",
   "name": "python",
   "nbconvert_exporter": "python",
   "pygments_lexer": "ipython3",
   "version": "3.9.15"
  }
 },
 "nbformat": 4,
 "nbformat_minor": 2
}
