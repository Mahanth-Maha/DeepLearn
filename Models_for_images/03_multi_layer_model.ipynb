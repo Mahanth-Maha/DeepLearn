{
 "cells": [
  {
   "cell_type": "markdown",
   "metadata": {},
   "source": [
    "# Linear Model + non linear activation function"
   ]
  },
  {
   "cell_type": "code",
   "execution_count": 6,
   "metadata": {},
   "outputs": [],
   "source": [
    "import numpy as np \n",
    "import pandas as pd \n",
    "import matplotlib.pyplot as plt\n",
    "import seaborn as sns\n",
    "import torch\n",
    "import torch.nn as nn\n",
    "import torch.optim as optim"
   ]
  },
  {
   "cell_type": "code",
   "execution_count": 7,
   "metadata": {},
   "outputs": [
    {
     "data": {
      "text/plain": [
       "((40000, 3072),\n",
       " (40000,),\n",
       " (10000, 3072),\n",
       " (10000,),\n",
       " (10000, 3072),\n",
       " (10000,),\n",
       " 10,\n",
       " {0: 'jetliner',\n",
       "  1: 'shooting',\n",
       "  2: 'gamecock',\n",
       "  3: 'domestic',\n",
       "  4: 'wapiti',\n",
       "  5: 'toy',\n",
       "  6: 'green',\n",
       "  7: 'lippizan',\n",
       "  8: 'hydrofoil',\n",
       "  9: 'dustcart'})"
      ]
     },
     "execution_count": 7,
     "metadata": {},
     "output_type": "execute_result"
    }
   ],
   "source": [
    "data_folder = './../Data/cifar/cifar-10/'\n",
    "Xtr = np.load(data_folder + 'Xtr.npy')\n",
    "ytr = np.load(data_folder + 'ytr.npy')\n",
    "Xte = np.load(data_folder + 'Xte.npy')\n",
    "yte = np.load(data_folder + 'yte.npy')\n",
    "labels = read_dictionary = np.load(data_folder + 'labels_dict.npy',allow_pickle='TRUE').item()\n",
    "true_shape = (32, 32, 3)\n",
    "# transpose to (1,2,0)\n",
    "n = int(Xtr.shape[0]*0.8)\n",
    "Xtr , Xval = Xtr[:n] , Xtr[n:]\n",
    "ytr , yval = ytr[:n] , ytr[n:]\n",
    "Xtr.shape , ytr.shape , Xval.shape , yval.shape , Xte.shape , yte.shape , len(labels) , labels"
   ]
  },
  {
   "cell_type": "code",
   "execution_count": 8,
   "metadata": {},
   "outputs": [],
   "source": [
    "Xtr = torch.tensor(Xtr , dtype = torch.float32)\n",
    "ytr = torch.tensor(ytr , dtype = torch.float32)\n",
    "Xval = torch.tensor(Xval , dtype = torch.float32)\n",
    "yval = torch.tensor(yval , dtype = torch.float32)\n",
    "Xte = torch.tensor(Xte , dtype = torch.float32)\n",
    "yte = torch.tensor(yte , dtype = torch.float32)\n",
    "\n",
    "ytr_enc = torch.zeros(ytr.shape[0] , len(labels)) \n",
    "yval_enc = torch.zeros(yval.shape[0] , len(labels))\n",
    "yte_enc = torch.zeros(yte.shape[0] , len(labels))\n",
    "ytr_enc[torch.arange(ytr.shape[0]) , ytr.long()] = 1\n",
    "yval_enc[torch.arange(yval.shape[0]) , yval.long()] = 1\n",
    "yte_enc[torch.arange(yte.shape[0]) , yte.long()] = 1"
   ]
  },
  {
   "cell_type": "markdown",
   "metadata": {},
   "source": [
    "## 2 layer MLP\n",
    "2 layer neural network with linear model and non linear activation function.\n",
    "\n",
    "flow :\n",
    "\n",
    "3072 -> 100 -> 10 "
   ]
  },
  {
   "cell_type": "markdown",
   "metadata": {},
   "source": [
    "#### Activations : relu"
   ]
  },
  {
   "cell_type": "code",
   "execution_count": 4,
   "metadata": {},
   "outputs": [],
   "source": [
    "def relu(x):\n",
    "    return x * (x > 0) \n",
    "\n",
    "def d_relu(x):\n",
    "    return 1. * (x > 0) "
   ]
  },
  {
   "cell_type": "code",
   "execution_count": 27,
   "metadata": {},
   "outputs": [],
   "source": [
    "def softmax(x):\n",
    "    return torch.exp(x) / torch.exp(x).sum(axis = 1).reshape(-1,1) \n",
    "\n",
    "def d_softmax(x):\n",
    "    return softmax(x) * (1 - softmax(x))"
   ]
  },
  {
   "cell_type": "markdown",
   "metadata": {},
   "source": [
    "### Data preprocessing"
   ]
  },
  {
   "cell_type": "code",
   "execution_count": 8,
   "metadata": {},
   "outputs": [
    {
     "data": {
      "text/plain": [
       "torch.Size([40000, 3072])"
      ]
     },
     "execution_count": 8,
     "metadata": {},
     "output_type": "execute_result"
    }
   ],
   "source": [
    "## Subtract mean image\n",
    "Xtr -= torch.mean(Xtr, dim = 1, keepdim = True)\n",
    "Xtr.shape"
   ]
  },
  {
   "cell_type": "markdown",
   "metadata": {},
   "source": [
    "### Batch Sampler"
   ]
  },
  {
   "cell_type": "code",
   "execution_count": 15,
   "metadata": {},
   "outputs": [],
   "source": [
    "class dataset():\n",
    "    def __init__(self, X, y):\n",
    "        self.X = X\n",
    "        self.y = y\n",
    "        self.n = X.shape[0]\n",
    "        self.i = 0\n",
    "        self.mask = torch.arange(self.n)\n",
    "    \n",
    "    def next_batch(self, batch_size):\n",
    "        if self.i + batch_size > self.n:\n",
    "            self.reset()\n",
    "        X_batch = self.X[self.mask][self.i : self.i + batch_size]\n",
    "        y_batch = self.y[self.mask][self.i : self.i + batch_size]\n",
    "        self.i += batch_size\n",
    "        return X_batch, y_batch \n",
    "\n",
    "    def reset(self):\n",
    "        self.i = 0\n",
    "        self.mask = torch.randperm(self.n)"
   ]
  },
  {
   "cell_type": "code",
   "execution_count": 32,
   "metadata": {},
   "outputs": [],
   "source": [
    "train = dataset(Xtr, ytr_enc)\n",
    "val = dataset(Xval, yval_enc)"
   ]
  },
  {
   "cell_type": "markdown",
   "metadata": {},
   "source": [
    "### Weight init (Xaiver init & Kaiming init)"
   ]
  },
  {
   "cell_type": "code",
   "execution_count": 104,
   "metadata": {},
   "outputs": [],
   "source": [
    "h1_neurons = 100\n",
    "\n",
    "\n",
    "W1 = torch.rand(Xtr.shape[1], h1_neurons) * np.sqrt(2.0 / Xtr.shape[1]) * 0.01 # Kaiming He initialization\n",
    "b1 = torch.zeros(h1_neurons)\n",
    "\n",
    "W2 = torch.rand(h1_neurons, len(labels)) * np.sqrt(2.0 / h1_neurons) * 0.01 # Kaiming He initialization \n",
    "b2 = torch.zeros(len(labels))"
   ]
  },
  {
   "cell_type": "code",
   "execution_count": 105,
   "metadata": {},
   "outputs": [
    {
     "data": {
      "text/plain": [
       "tensor([[0., 0., 0., 0., 0.],\n",
       "        [0., 0., 0., 0., 0.],\n",
       "        [0., 0., 0., 0., 0.],\n",
       "        [0., 0., 0., 0., 0.],\n",
       "        [0., 0., 0., 0., 0.]])"
      ]
     },
     "execution_count": 105,
     "metadata": {},
     "output_type": "execute_result"
    }
   ],
   "source": [
    "parameters = [W1, b1, W2, b2] \n",
    "updates = [torch.zeros_like(p) for p in parameters] \n",
    "\n",
    "def grad_zero(updates):\n",
    "    for u in updates:\n",
    "        u.zero_()\n",
    "        \n",
    "grad_zero(updates)\n",
    "updates[0][:5,:5]"
   ]
  },
  {
   "cell_type": "code",
   "execution_count": 106,
   "metadata": {},
   "outputs": [
    {
     "data": {
      "text/plain": [
       "(tensor([[2.3066e-01, -0.0000e+00, -0.0000e+00, -0.0000e+00, 2.0936e-01],\n",
       "         [-0.0000e+00, 1.4177e-01, 4.6027e-02, 2.8563e-04, 9.1992e-02],\n",
       "         [-0.0000e+00, -0.0000e+00, -0.0000e+00, 1.1815e-01, -0.0000e+00],\n",
       "         [1.4938e-01, -0.0000e+00, -0.0000e+00, -0.0000e+00, 2.5517e-01],\n",
       "         [2.5581e-02, -0.0000e+00, 7.9031e-02, 4.3658e-01, -0.0000e+00]]),\n",
       " tensor([[0.1000, 0.1000, 0.0999, 0.1001, 0.0999],\n",
       "         [0.1000, 0.1000, 0.1000, 0.1000, 0.1000],\n",
       "         [0.1000, 0.1000, 0.1000, 0.1000, 0.1000],\n",
       "         [0.1001, 0.1000, 0.1000, 0.1001, 0.0999],\n",
       "         [0.1001, 0.1000, 0.0999, 0.1001, 0.1000]]))"
      ]
     },
     "execution_count": 106,
     "metadata": {},
     "output_type": "execute_result"
    }
   ],
   "source": [
    "def forward(X, W1, b1, W2, b2):\n",
    "    h1 = X @ W1 + b1\n",
    "    a1 = relu(h1)\n",
    "    h2 = a1 @ W2 + b2\n",
    "    a2 = softmax(h2)\n",
    "    return h1, a1, h2, a2\n",
    "\n",
    "Xbtr, ybtr = train.next_batch(10)\n",
    "h1, a1, h2, a2 = forward( Xbtr,*parameters)\n",
    "a1[:5,:5] , a2[:5,:5]"
   ]
  },
  {
   "cell_type": "code",
   "execution_count": 107,
   "metadata": {},
   "outputs": [
    {
     "data": {
      "text/plain": [
       "(tensor([[0.1237, -0.0000, -0.0000, -0.0000, -0.0000],\n",
       "         [0.0086, -0.0000, -0.0000, -0.0000, -0.0000],\n",
       "         [0.2934, -0.0000, -0.0000, -0.0000, -0.0000],\n",
       "         [-0.0000, -0.0000, -0.0000, -0.0000, -0.0000],\n",
       "         [0.1773, 0.0556, -0.0000, -0.0000, -0.0000]]),\n",
       " tensor([[0.0973, 0.0995, 0.0768, 0.0917, 0.1427],\n",
       "         [0.0973, 0.0995, 0.0768, 0.0917, 0.1429],\n",
       "         [0.0973, 0.0995, 0.0769, 0.0916, 0.1429],\n",
       "         [0.0974, 0.0995, 0.0767, 0.0916, 0.1429],\n",
       "         [0.0973, 0.0996, 0.0768, 0.0917, 0.1430]]))"
      ]
     },
     "execution_count": 107,
     "metadata": {},
     "output_type": "execute_result"
    }
   ],
   "source": [
    "def BatchNorm(h, gamma = 1, beta = 0, eps = 1e-5):\n",
    "    # print(h.shape)\n",
    "    mu_bn = torch.mean(h,axis = 0)\n",
    "    var_bn = torch.var(h,axis = 0)\n",
    "    # print(mu_bn.shape , var_bn.shape)\n",
    "    h_hat = h - mu_bn / torch.sqrt(var_bn + eps)\n",
    "    # print(h_hat.shape)\n",
    "    y_k = gamma * h_hat + beta\n",
    "    return y_k\n",
    "\n",
    "\n",
    "def forward(X, W1, b1, W2, b2, gamma = 1, beta = 0):\n",
    "    h1 = X @ W1 + b1\n",
    "    bn1 = BatchNorm(h1, gamma, beta)\n",
    "    a1 = relu(bn1)\n",
    "    h2 = a1 @ W2 + b2\n",
    "    bn2 = BatchNorm(h2, gamma, beta)\n",
    "    a2 = softmax(bn2)\n",
    "    return h1, a1,  h2, a2\n",
    "\n",
    "Xbtr, ybtr = train.next_batch(10)\n",
    "h1, a1,  h2, a2 = forward( Xbtr,*parameters)\n",
    "a1[:5,:5] , a2[:5,:5]"
   ]
  },
  {
   "cell_type": "code",
   "execution_count": 108,
   "metadata": {},
   "outputs": [
    {
     "data": {
      "text/plain": [
       "(tensor(23.0551), tensor(0.1000))"
      ]
     },
     "execution_count": 108,
     "metadata": {},
     "output_type": "execute_result"
    }
   ],
   "source": [
    "def loss(y, y_hat):\n",
    "    return -torch.sum(y * torch.log(y_hat))\n",
    "\n",
    "def accuracy(y, y_hat):\n",
    "    return torch.sum(y.argmax(dim = 1) == y_hat.argmax(dim = 1)) / y.shape[0]\n",
    "\n",
    "lss = loss(ybtr, a2)\n",
    "acc = accuracy(ybtr, a2)\n",
    "lss , acc"
   ]
  },
  {
   "cell_type": "code",
   "execution_count": 109,
   "metadata": {},
   "outputs": [
    {
     "data": {
      "text/plain": [
       "(torch.Size([3072, 100]),\n",
       " torch.Size([100]),\n",
       " torch.Size([100, 10]),\n",
       " torch.Size([10]))"
      ]
     },
     "execution_count": 109,
     "metadata": {},
     "output_type": "execute_result"
    }
   ],
   "source": [
    "def backward(X, y, h1, a1, h2, a2, W1, b1, W2, b2):\n",
    "    m = X.shape[0]\n",
    "    dy = a2 - y\n",
    "    dW2 = a1.T @ dy\n",
    "    db2 = torch.sum(dy, axis = 0)\n",
    "    da1 = dy @ W2.T\n",
    "    dh1 = da1 * d_relu(a1)\n",
    "    dW1 = X.T @ dh1\n",
    "    db1 = torch.sum(dh1, axis = 0)\n",
    "    return dW1, db1, dW2, db2\n",
    "\n",
    "dW1, db1, dW2, db2 = backward(Xbtr, ybtr, h1, a1, h2, a2, *parameters) \n",
    "dW1.shape, db1.shape, dW2.shape, db2.shape"
   ]
  },
  {
   "cell_type": "code",
   "execution_count": 112,
   "metadata": {},
   "outputs": [
    {
     "name": "stdout",
     "output_type": "stream",
     "text": [
      "Iteration       0 Loss 2218.9838867\n",
      "Iteration      10 Loss 2223.4924316\n",
      "Iteration      20 Loss 2223.1689453\n",
      "Iteration      30 Loss 2200.8801270\n",
      "Iteration      40 Loss 2176.1425781\n",
      "Iteration      50 Loss 2176.8764648\n",
      "Iteration      60 Loss 2187.6982422\n",
      "Iteration      70 Loss 2170.9963379\n",
      "Iteration      80 Loss 2153.6015625\n",
      "Iteration      90 Loss 2160.8793945\n"
     ]
    },
    {
     "data": {
      "text/plain": [
       "[<matplotlib.lines.Line2D at 0x20c2007e700>]"
      ]
     },
     "execution_count": 112,
     "metadata": {},
     "output_type": "execute_result"
    },
    {
     "data": {
      "image/png": "[encoded data removed]",
      "text/plain": [
       "<Figure size 640x480 with 1 Axes>"
      ]
     },
     "metadata": {},
     "output_type": "display_data"
    }
   ],
   "source": [
    "class adam:\n",
    "    \n",
    "    def __init__(self, parameters, lr = 0.001, b1 = 0.9, b2 = 0.999, eps = 1e-8):\n",
    "        self.lr = lr\n",
    "        self.b1 = b1\n",
    "        self.b2 = b2\n",
    "        self.eps = eps\n",
    "        self.parameters = parameters\n",
    "        self.m_k = [0 for _ in parameters]\n",
    "        self.u_k = [0 for _ in parameters]\n",
    "    \n",
    "    def update(self, grads):\n",
    "        for i in range(len(self.parameters)):\n",
    "            self.m_k[i] = self.b1 * self.m_k[i] + (1 - self.b1) * grads[i]\n",
    "            self.u_k[i] = self.b2 * self.u_k[i] + (1 - self.b2) * grads[i]**2\n",
    "            m_k_hat = self.m_k[i] / (1 - self.b1)\n",
    "            u_k_hat = self.u_k[i] / (1 - self.b2)\n",
    "            self.parameters[i] -= self.lr * m_k_hat / (torch.sqrt(u_k_hat) + self.eps)\n",
    "    \n",
    "    def optimize(self, forward, backward, loss, train , max_iters = 10): \n",
    "        train_losses = []\n",
    "        \n",
    "        for i in range(max_iters):\n",
    "            X , y = train.next_batch(1000)\n",
    "            h1, a1, h2, a2 = forward(X, *self.parameters)\n",
    "            grads = backward(X, y, h1, a1, h2, a2, *self.parameters)\n",
    "            lss = loss(y, a2)\n",
    "            self.update(grads)\n",
    "            train_losses.append(lss)\n",
    "            if i % (max_iters//10) == 0:\n",
    "                print(f'Iteration {i:7} Loss {lss:.7f}')\n",
    "        return train_losses\n",
    "\n",
    "adam_opt = adam(parameters, lr = 1e-6)\n",
    "lss_d = adam_opt.optimize(forward, backward, loss, train, max_iters = 100)\n",
    "\n",
    "plt.plot(lss_d)"
   ]
  },
  {
   "cell_type": "code",
   "execution_count": 113,
   "metadata": {},
   "outputs": [
    {
     "name": "stdout",
     "output_type": "stream",
     "text": [
      "Iteration       0 Loss 2307.2929688\n",
      "Iteration    1000 Loss 2048.8305664\n",
      "Iteration    2000 Loss 1935.7929688\n",
      "Iteration    3000 Loss 1906.7773438\n",
      "Iteration    4000 Loss 1863.6617432\n",
      "Iteration    5000 Loss 1767.7055664\n",
      "Iteration    6000 Loss 1780.6060791\n",
      "Iteration    7000 Loss 1800.4802246\n",
      "Iteration    8000 Loss 1743.0712891\n",
      "Iteration    9000 Loss 1692.9034424\n"
     ]
    },
    {
     "data": {
      "text/plain": [
       "[<matplotlib.lines.Line2D at 0x20c200a4100>]"
      ]
     },
     "execution_count": 113,
     "metadata": {},
     "output_type": "execute_result"
    },
    {
     "data": {
      "image/png": "[encoded data removed]",
      "text/plain": [
       "<Figure size 640x480 with 1 Axes>"
      ]
     },
     "metadata": {},
     "output_type": "display_data"
    }
   ],
   "source": [
    "h1_neurons = 100\n",
    "\n",
    "\n",
    "W1 = torch.rand(Xtr.shape[1], h1_neurons) * np.sqrt(2.0 / Xtr.shape[1]) * 0.01 # Kaiming He initialization\n",
    "b1 = torch.zeros(h1_neurons)\n",
    "\n",
    "W2 = torch.rand(h1_neurons, len(labels)) * np.sqrt(2.0 / h1_neurons) * 0.01 # Kaiming He initialization \n",
    "b2 = torch.zeros(len(labels))\n",
    "\n",
    "parameters = [W1, b1, W2, b2] \n",
    "\n",
    "adam_opt = adam(parameters, lr = 1e-6)\n",
    "lss_d = adam_opt.optimize(forward, backward, loss, train, max_iters = 10000)\n",
    "\n",
    "plt.plot(lss_d)"
   ]
  },
  {
   "cell_type": "code",
   "execution_count": 114,
   "metadata": {},
   "outputs": [
    {
     "data": {
      "text/plain": [
       "tensor(29707.9434)"
      ]
     },
     "execution_count": 114,
     "metadata": {},
     "output_type": "execute_result"
    },
    {
     "data": {
      "text/plain": [
       "tensor(0.2223)"
      ]
     },
     "execution_count": 114,
     "metadata": {},
     "output_type": "execute_result"
    }
   ],
   "source": [
    "y_pred = forward(Xte, *adam_opt.parameters)\n",
    "lsss = loss(yte_enc, y_pred[-1])\n",
    "lsss\n",
    "acc = accuracy(yte_enc, y_pred[-1])\n",
    "acc"
   ]
  },
  {
   "cell_type": "markdown",
   "metadata": {},
   "source": [
    "### Using Pytorch"
   ]
  },
  {
   "cell_type": "code",
   "execution_count": 1,
   "metadata": {},
   "outputs": [],
   "source": [
    "import numpy as np\n",
    "\n",
    "import torch\n",
    "import torch.nn as nn\n",
    "import torch.optim as optim\n",
    "from torch.utils.data import Dataset, DataLoader"
   ]
  },
  {
   "cell_type": "code",
   "execution_count": 2,
   "metadata": {},
   "outputs": [],
   "source": [
    "data_folder = './../Data/cifar/cifar-10/'\n",
    "Xtr = np.load(data_folder + 'Xtr.npy')\n",
    "ytr = np.load(data_folder + 'ytr.npy')\n",
    "Xte = np.load(data_folder + 'Xte.npy')\n",
    "yte = np.load(data_folder + 'yte.npy')\n",
    "n = int(Xtr.shape[0] * 0.8)\n",
    "Xtr, Xval = Xtr[:n], Xtr[n:]\n",
    "ytr, yval = ytr[:n], ytr[n:]"
   ]
  },
  {
   "cell_type": "code",
   "execution_count": 3,
   "metadata": {},
   "outputs": [
    {
     "data": {
      "text/plain": [
       "(torch.Size([64, 3072]), torch.Size([64]))"
      ]
     },
     "execution_count": 3,
     "metadata": {},
     "output_type": "execute_result"
    }
   ],
   "source": [
    "class CIFARDataset(Dataset):\n",
    "    def __init__(self, X, y):\n",
    "        self.X = torch.tensor(X, dtype=torch.float32)\n",
    "        self.y = torch.tensor(y, dtype=torch.long)\n",
    "    \n",
    "    def __len__(self):\n",
    "        return len(self.X)\n",
    "    \n",
    "    def __getitem__(self, idx):\n",
    "        return self.X[idx], self.y[idx]\n",
    "\n",
    "\n",
    "train_dataset = CIFARDataset(Xtr, ytr)\n",
    "val_dataset = CIFARDataset(Xval, yval)\n",
    "test_dataset = CIFARDataset(Xte, yte)\n",
    "train_loader = DataLoader(train_dataset, batch_size=64, shuffle=True)\n",
    "val_loader = DataLoader(val_dataset, batch_size=64, shuffle=False)\n",
    "test_loader = DataLoader(test_dataset, batch_size=64, shuffle=False)\n",
    "\n",
    "dummy = next(iter(train_loader))\n",
    "dummy[0].shape, dummy[1].shape"
   ]
  },
  {
   "cell_type": "code",
   "execution_count": 126,
   "metadata": {},
   "outputs": [],
   "source": [
    "class FCNet(nn.Module):\n",
    "    def __init__(self, input_size, hidden_size, output_size):\n",
    "        super(FCNet, self).__init__()\n",
    "        self.fc1 = nn.Linear(input_size, hidden_size, bias=True)\n",
    "        self.relu = nn.ReLU()\n",
    "        self.fc2 = nn.Linear(hidden_size, output_size , bias = True)\n",
    "    \n",
    "    def forward(self, x):\n",
    "        x = self.fc1(x)\n",
    "        x = self.relu(x)\n",
    "        x = self.fc2(x)\n",
    "        return x\n",
    "\n",
    "model = FCNet(Xtr.shape[1], 128, len(labels))\n",
    "criterion = nn.CrossEntropyLoss()\n",
    "optimizer = optim.Adam(model.parameters(), lr = 1e-6)"
   ]
  },
  {
   "cell_type": "code",
   "execution_count": 127,
   "metadata": {},
   "outputs": [
    {
     "data": {
      "text/plain": [
       "tensor(3.6574, grad_fn=<LogBackward0>)"
      ]
     },
     "execution_count": 127,
     "metadata": {},
     "output_type": "execute_result"
    }
   ],
   "source": [
    "torch.log(criterion(model(dummy[0]), dummy[1]))"
   ]
  },
  {
   "cell_type": "code",
   "execution_count": 128,
   "metadata": {},
   "outputs": [
    {
     "data": {
      "text/plain": [
       "FCNet(\n",
       "  (fc1): Linear(in_features=3072, out_features=128, bias=True)\n",
       "  (relu): ReLU()\n",
       "  (fc2): Linear(in_features=128, out_features=10, bias=True)\n",
       ")"
      ]
     },
     "execution_count": 128,
     "metadata": {},
     "output_type": "execute_result"
    },
    {
     "data": {
      "text/plain": [
       "FCNet(\n",
       "  (fc1): Linear(in_features=3072, out_features=128, bias=True)\n",
       "  (relu): ReLU()\n",
       "  (fc2): Linear(in_features=128, out_features=10, bias=True)\n",
       ")"
      ]
     },
     "execution_count": 128,
     "metadata": {},
     "output_type": "execute_result"
    },
    {
     "name": "stdout",
     "output_type": "stream",
     "text": [
      "Epoch 1/10, Train Loss: 14.3870, Val Loss: 10.2577\n"
     ]
    },
    {
     "data": {
      "text/plain": [
       "FCNet(\n",
       "  (fc1): Linear(in_features=3072, out_features=128, bias=True)\n",
       "  (relu): ReLU()\n",
       "  (fc2): Linear(in_features=128, out_features=10, bias=True)\n",
       ")"
      ]
     },
     "execution_count": 128,
     "metadata": {},
     "output_type": "execute_result"
    },
    {
     "data": {
      "text/plain": [
       "FCNet(\n",
       "  (fc1): Linear(in_features=3072, out_features=128, bias=True)\n",
       "  (relu): ReLU()\n",
       "  (fc2): Linear(in_features=128, out_features=10, bias=True)\n",
       ")"
      ]
     },
     "execution_count": 128,
     "metadata": {},
     "output_type": "execute_result"
    },
    {
     "name": "stdout",
     "output_type": "stream",
     "text": [
      "Epoch 2/10, Train Loss: 9.2214, Val Loss: 8.3999\n"
     ]
    },
    {
     "data": {
      "text/plain": [
       "FCNet(\n",
       "  (fc1): Linear(in_features=3072, out_features=128, bias=True)\n",
       "  (relu): ReLU()\n",
       "  (fc2): Linear(in_features=128, out_features=10, bias=True)\n",
       ")"
      ]
     },
     "execution_count": 128,
     "metadata": {},
     "output_type": "execute_result"
    },
    {
     "data": {
      "text/plain": [
       "FCNet(\n",
       "  (fc1): Linear(in_features=3072, out_features=128, bias=True)\n",
       "  (relu): ReLU()\n",
       "  (fc2): Linear(in_features=128, out_features=10, bias=True)\n",
       ")"
      ]
     },
     "execution_count": 128,
     "metadata": {},
     "output_type": "execute_result"
    },
    {
     "name": "stdout",
     "output_type": "stream",
     "text": [
      "Epoch 3/10, Train Loss: 7.8601, Val Loss: 7.4702\n"
     ]
    },
    {
     "data": {
      "text/plain": [
       "FCNet(\n",
       "  (fc1): Linear(in_features=3072, out_features=128, bias=True)\n",
       "  (relu): ReLU()\n",
       "  (fc2): Linear(in_features=128, out_features=10, bias=True)\n",
       ")"
      ]
     },
     "execution_count": 128,
     "metadata": {},
     "output_type": "execute_result"
    },
    {
     "data": {
      "text/plain": [
       "FCNet(\n",
       "  (fc1): Linear(in_features=3072, out_features=128, bias=True)\n",
       "  (relu): ReLU()\n",
       "  (fc2): Linear(in_features=128, out_features=10, bias=True)\n",
       ")"
      ]
     },
     "execution_count": 128,
     "metadata": {},
     "output_type": "execute_result"
    },
    {
     "name": "stdout",
     "output_type": "stream",
     "text": [
      "Epoch 4/10, Train Loss: 7.1003, Val Loss: 6.8679\n"
     ]
    },
    {
     "data": {
      "text/plain": [
       "FCNet(\n",
       "  (fc1): Linear(in_features=3072, out_features=128, bias=True)\n",
       "  (relu): ReLU()\n",
       "  (fc2): Linear(in_features=128, out_features=10, bias=True)\n",
       ")"
      ]
     },
     "execution_count": 128,
     "metadata": {},
     "output_type": "execute_result"
    },
    {
     "data": {
      "text/plain": [
       "FCNet(\n",
       "  (fc1): Linear(in_features=3072, out_features=128, bias=True)\n",
       "  (relu): ReLU()\n",
       "  (fc2): Linear(in_features=128, out_features=10, bias=True)\n",
       ")"
      ]
     },
     "execution_count": 128,
     "metadata": {},
     "output_type": "execute_result"
    },
    {
     "name": "stdout",
     "output_type": "stream",
     "text": [
      "Epoch 5/10, Train Loss: 6.5787, Val Loss: 6.4438\n"
     ]
    },
    {
     "data": {
      "text/plain": [
       "FCNet(\n",
       "  (fc1): Linear(in_features=3072, out_features=128, bias=True)\n",
       "  (relu): ReLU()\n",
       "  (fc2): Linear(in_features=128, out_features=10, bias=True)\n",
       ")"
      ]
     },
     "execution_count": 128,
     "metadata": {},
     "output_type": "execute_result"
    },
    {
     "data": {
      "text/plain": [
       "FCNet(\n",
       "  (fc1): Linear(in_features=3072, out_features=128, bias=True)\n",
       "  (relu): ReLU()\n",
       "  (fc2): Linear(in_features=128, out_features=10, bias=True)\n",
       ")"
      ]
     },
     "execution_count": 128,
     "metadata": {},
     "output_type": "execute_result"
    },
    {
     "name": "stdout",
     "output_type": "stream",
     "text": [
      "Epoch 6/10, Train Loss: 6.1704, Val Loss: 6.0816\n"
     ]
    },
    {
     "data": {
      "text/plain": [
       "FCNet(\n",
       "  (fc1): Linear(in_features=3072, out_features=128, bias=True)\n",
       "  (relu): ReLU()\n",
       "  (fc2): Linear(in_features=128, out_features=10, bias=True)\n",
       ")"
      ]
     },
     "execution_count": 128,
     "metadata": {},
     "output_type": "execute_result"
    },
    {
     "data": {
      "text/plain": [
       "FCNet(\n",
       "  (fc1): Linear(in_features=3072, out_features=128, bias=True)\n",
       "  (relu): ReLU()\n",
       "  (fc2): Linear(in_features=128, out_features=10, bias=True)\n",
       ")"
      ]
     },
     "execution_count": 128,
     "metadata": {},
     "output_type": "execute_result"
    },
    {
     "name": "stdout",
     "output_type": "stream",
     "text": [
      "Epoch 7/10, Train Loss: 5.8438, Val Loss: 5.7758\n"
     ]
    },
    {
     "data": {
      "text/plain": [
       "FCNet(\n",
       "  (fc1): Linear(in_features=3072, out_features=128, bias=True)\n",
       "  (relu): ReLU()\n",
       "  (fc2): Linear(in_features=128, out_features=10, bias=True)\n",
       ")"
      ]
     },
     "execution_count": 128,
     "metadata": {},
     "output_type": "execute_result"
    },
    {
     "data": {
      "text/plain": [
       "FCNet(\n",
       "  (fc1): Linear(in_features=3072, out_features=128, bias=True)\n",
       "  (relu): ReLU()\n",
       "  (fc2): Linear(in_features=128, out_features=10, bias=True)\n",
       ")"
      ]
     },
     "execution_count": 128,
     "metadata": {},
     "output_type": "execute_result"
    },
    {
     "name": "stdout",
     "output_type": "stream",
     "text": [
      "Epoch 8/10, Train Loss: 5.5655, Val Loss: 5.5155\n"
     ]
    },
    {
     "data": {
      "text/plain": [
       "FCNet(\n",
       "  (fc1): Linear(in_features=3072, out_features=128, bias=True)\n",
       "  (relu): ReLU()\n",
       "  (fc2): Linear(in_features=128, out_features=10, bias=True)\n",
       ")"
      ]
     },
     "execution_count": 128,
     "metadata": {},
     "output_type": "execute_result"
    },
    {
     "data": {
      "text/plain": [
       "FCNet(\n",
       "  (fc1): Linear(in_features=3072, out_features=128, bias=True)\n",
       "  (relu): ReLU()\n",
       "  (fc2): Linear(in_features=128, out_features=10, bias=True)\n",
       ")"
      ]
     },
     "execution_count": 128,
     "metadata": {},
     "output_type": "execute_result"
    },
    {
     "name": "stdout",
     "output_type": "stream",
     "text": [
      "Epoch 9/10, Train Loss: 5.3328, Val Loss: 5.3214\n"
     ]
    },
    {
     "data": {
      "text/plain": [
       "FCNet(\n",
       "  (fc1): Linear(in_features=3072, out_features=128, bias=True)\n",
       "  (relu): ReLU()\n",
       "  (fc2): Linear(in_features=128, out_features=10, bias=True)\n",
       ")"
      ]
     },
     "execution_count": 128,
     "metadata": {},
     "output_type": "execute_result"
    },
    {
     "data": {
      "text/plain": [
       "FCNet(\n",
       "  (fc1): Linear(in_features=3072, out_features=128, bias=True)\n",
       "  (relu): ReLU()\n",
       "  (fc2): Linear(in_features=128, out_features=10, bias=True)\n",
       ")"
      ]
     },
     "execution_count": 128,
     "metadata": {},
     "output_type": "execute_result"
    },
    {
     "name": "stdout",
     "output_type": "stream",
     "text": [
      "Epoch 10/10, Train Loss: 5.1232, Val Loss: 5.1666\n"
     ]
    }
   ],
   "source": [
    "epochs = 10\n",
    "train_losses = []\n",
    "val_losses = []\n",
    "\n",
    "for epoch in range(epochs):\n",
    "    _ = model.train()\n",
    "    epoch_loss = 0\n",
    "    for batch in train_loader:\n",
    "        inputs, targets = batch\n",
    "        optimizer.zero_grad()\n",
    "        outputs = model(inputs)\n",
    "        loss = criterion(outputs, targets)\n",
    "        loss.backward()\n",
    "        optimizer.step()\n",
    "        epoch_loss += loss.item()\n",
    "    train_losses.append(epoch_loss / len(train_loader))\n",
    "    \n",
    "    # Validation\n",
    "    _ = model.eval()\n",
    "    val_loss = 0\n",
    "    with torch.no_grad():\n",
    "        for batch in val_loader:\n",
    "            inputs, targets = batch\n",
    "            outputs = model(inputs)\n",
    "            loss = criterion(outputs, targets)\n",
    "            val_loss += loss.item()\n",
    "    val_losses.append(val_loss / len(val_loader))\n",
    "    \n",
    "    print(f\"Epoch {epoch+1}/{epochs}, Train Loss: {train_losses[-1]:.4f}, Val Loss: {val_losses[-1]:.4f}\")\n"
   ]
  },
  {
   "cell_type": "code",
   "execution_count": 129,
   "metadata": {},
   "outputs": [
    {
     "data": {
      "text/plain": [
       "[<matplotlib.lines.Line2D at 0x20c363c3310>]"
      ]
     },
     "execution_count": 129,
     "metadata": {},
     "output_type": "execute_result"
    },
    {
     "data": {
      "text/plain": [
       "[<matplotlib.lines.Line2D at 0x20c363c3430>]"
      ]
     },
     "execution_count": 129,
     "metadata": {},
     "output_type": "execute_result"
    },
    {
     "data": {
      "text/plain": [
       "<matplotlib.legend.Legend at 0x20c2b2482e0>"
      ]
     },
     "execution_count": 129,
     "metadata": {},
     "output_type": "execute_result"
    },
    {
     "data": {
      "image/png": "[encoded data removed]",
      "text/plain": [
       "<Figure size 640x480 with 1 Axes>"
      ]
     },
     "metadata": {},
     "output_type": "display_data"
    }
   ],
   "source": [
    "plt.plot(train_losses, label='Train Loss')  \n",
    "plt.plot(val_losses, label='Validation Loss')\n",
    "plt.legend()\n",
    "plt.show()"
   ]
  },
  {
   "cell_type": "code",
   "execution_count": 130,
   "metadata": {},
   "outputs": [
    {
     "data": {
      "text/plain": [
       "FCNet(\n",
       "  (fc1): Linear(in_features=3072, out_features=128, bias=True)\n",
       "  (relu): ReLU()\n",
       "  (fc2): Linear(in_features=128, out_features=10, bias=True)\n",
       ")"
      ]
     },
     "execution_count": 130,
     "metadata": {},
     "output_type": "execute_result"
    },
    {
     "name": "stdout",
     "output_type": "stream",
     "text": [
      "Test Accuracy: 24.99%\n"
     ]
    }
   ],
   "source": [
    "model.eval()\n",
    "total, correct = 0, 0\n",
    "with torch.no_grad():\n",
    "    for batch in test_loader:\n",
    "        inputs, targets = batch\n",
    "        outputs = model(inputs)\n",
    "        _, predicted = torch.max(outputs, 1)\n",
    "        total += targets.size(0)\n",
    "        correct += (predicted == targets).sum().item()\n",
    "\n",
    "accuracy = correct / total\n",
    "print(f\"Test Accuracy: {accuracy * 100:.2f}%\")"
   ]
  },
  {
   "cell_type": "code",
   "execution_count": 131,
   "metadata": {},
   "outputs": [
    {
     "name": "stdout",
     "output_type": "stream",
     "text": [
      "Epoch 1/10, Train Loss: 4.9331, Val Loss: 4.9734\n",
      "Epoch 2/10, Train Loss: 4.7577, Val Loss: 4.7987\n",
      "Epoch 3/10, Train Loss: 4.6017, Val Loss: 4.6779\n",
      "Epoch 4/10, Train Loss: 4.4690, Val Loss: 4.5779\n",
      "Epoch 5/10, Train Loss: 4.3557, Val Loss: 4.4553\n",
      "Epoch 6/10, Train Loss: 4.2488, Val Loss: 4.3760\n",
      "Epoch 7/10, Train Loss: 4.1536, Val Loss: 4.2767\n",
      "Epoch 8/10, Train Loss: 4.0629, Val Loss: 4.1961\n",
      "Epoch 9/10, Train Loss: 3.9796, Val Loss: 4.1215\n",
      "Epoch 10/10, Train Loss: 3.9013, Val Loss: 4.0584\n"
     ]
    }
   ],
   "source": [
    "epochs = 10\n",
    "for epoch in range(epochs):\n",
    "    _ = model.train()\n",
    "    epoch_loss = 0\n",
    "    for batch in train_loader:\n",
    "        inputs, targets = batch\n",
    "        optimizer.zero_grad()\n",
    "        outputs = model(inputs)\n",
    "        loss = criterion(outputs, targets)\n",
    "        loss.backward()\n",
    "        optimizer.step()\n",
    "        epoch_loss += loss.item()\n",
    "    train_losses.append(epoch_loss / len(train_loader))\n",
    "    \n",
    "    _ = model.eval()\n",
    "    val_loss = 0\n",
    "    with torch.no_grad():\n",
    "        for batch in val_loader:\n",
    "            inputs, targets = batch\n",
    "            outputs = model(inputs)\n",
    "            loss = criterion(outputs, targets)\n",
    "            val_loss += loss.item()\n",
    "    val_losses.append(val_loss / len(val_loader))\n",
    "    \n",
    "    print(f\"Epoch {epoch+1}/{epochs}, Train Loss: {train_losses[-1]:.4f}, Val Loss: {val_losses[-1]:.4f}\")\n"
   ]
  },
  {
   "cell_type": "code",
   "execution_count": 132,
   "metadata": {},
   "outputs": [
    {
     "data": {
      "text/plain": [
       "[<matplotlib.lines.Line2D at 0x20c364257f0>]"
      ]
     },
     "execution_count": 132,
     "metadata": {},
     "output_type": "execute_result"
    },
    {
     "data": {
      "text/plain": [
       "[<matplotlib.lines.Line2D at 0x20c36425af0>]"
      ]
     },
     "execution_count": 132,
     "metadata": {},
     "output_type": "execute_result"
    },
    {
     "data": {
      "text/plain": [
       "<matplotlib.legend.Legend at 0x20c363c3700>"
      ]
     },
     "execution_count": 132,
     "metadata": {},
     "output_type": "execute_result"
    },
    {
     "data": {
      "image/png": "[encoded data removed]",
      "text/plain": [
       "<Figure size 640x480 with 1 Axes>"
      ]
     },
     "metadata": {},
     "output_type": "display_data"
    }
   ],
   "source": [
    "plt.plot(train_losses, label='Train Loss')  \n",
    "plt.plot(val_losses, label='Validation Loss')\n",
    "plt.legend()\n",
    "plt.show()"
   ]
  },
  {
   "cell_type": "code",
   "execution_count": 133,
   "metadata": {},
   "outputs": [
    {
     "data": {
      "text/plain": [
       "FCNet(\n",
       "  (fc1): Linear(in_features=3072, out_features=128, bias=True)\n",
       "  (relu): ReLU()\n",
       "  (fc2): Linear(in_features=128, out_features=10, bias=True)\n",
       ")"
      ]
     },
     "execution_count": 133,
     "metadata": {},
     "output_type": "execute_result"
    },
    {
     "name": "stdout",
     "output_type": "stream",
     "text": [
      "Test Accuracy: 27.10%\n"
     ]
    }
   ],
   "source": [
    "model.eval()\n",
    "total, correct = 0, 0\n",
    "with torch.no_grad():\n",
    "    for batch in test_loader:\n",
    "        inputs, targets = batch\n",
    "        outputs = model(inputs)\n",
    "        _, predicted = torch.max(outputs, 1)\n",
    "        total += targets.size(0)\n",
    "        correct += (predicted == targets).sum().item()\n",
    "\n",
    "accuracy = correct / total\n",
    "print(f\"Test Accuracy: {accuracy * 100:.2f}%\")"
   ]
  },
  {
   "cell_type": "markdown",
   "metadata": {},
   "source": [
    "# 3 Layer MLP"
   ]
  },
  {
   "cell_type": "code",
   "execution_count": 134,
   "metadata": {},
   "outputs": [],
   "source": [
    "class FCNet3(nn.Module):\n",
    "    def __init__(self, input_size, hidden_size1,hidden_size2, output_size):\n",
    "        super(FCNet3, self).__init__()\n",
    "        self.relu1 = nn.ReLU()\n",
    "        self.fc1 = nn.Linear(input_size, hidden_size1, bias=True)\n",
    "        self.relu2 = nn.ReLU()\n",
    "        self.fc2 = nn.Linear(hidden_size1, hidden_size2 , bias = True)\n",
    "        self.fc3 = nn.Linear(hidden_size2, output_size , bias = True)\n",
    "    \n",
    "    def forward(self, x):\n",
    "        x = self.fc1(x)\n",
    "        x = self.relu1(x)\n",
    "        x = self.fc2(x)\n",
    "        x = self.relu2(x)\n",
    "        x = self.fc3(x)\n",
    "        return x\n",
    "\n",
    "model = FCNet3(Xtr.shape[1], 1024, 64 , len(labels))\n",
    "criterion = nn.CrossEntropyLoss()\n",
    "optimizer = optim.Adam(model.parameters(), lr = 1e-6) "
   ]
  },
  {
   "cell_type": "code",
   "execution_count": 135,
   "metadata": {},
   "outputs": [
    {
     "name": "stdout",
     "output_type": "stream",
     "text": [
      "Epoch 1/10, Train Loss: 3.3279, Val Loss: 2.3746\n",
      "Epoch 2/10, Train Loss: 2.2895, Val Loss: 2.2688\n",
      "Epoch 3/10, Train Loss: 2.2200, Val Loss: 2.2178\n",
      "Epoch 4/10, Train Loss: 2.1732, Val Loss: 2.1823\n",
      "Epoch 5/10, Train Loss: 2.1326, Val Loss: 2.1459\n",
      "Epoch 6/10, Train Loss: 2.0968, Val Loss: 2.1182\n",
      "Epoch 7/10, Train Loss: 2.0652, Val Loss: 2.0906\n",
      "Epoch 8/10, Train Loss: 2.0369, Val Loss: 2.0827\n",
      "Epoch 9/10, Train Loss: 2.0082, Val Loss: 2.0665\n",
      "Epoch 10/10, Train Loss: 1.9852, Val Loss: 2.0366\n"
     ]
    },
    {
     "data": {
      "text/plain": [
       "[<matplotlib.lines.Line2D at 0x20c362ce970>]"
      ]
     },
     "execution_count": 135,
     "metadata": {},
     "output_type": "execute_result"
    },
    {
     "data": {
      "text/plain": [
       "[<matplotlib.lines.Line2D at 0x20c362cebb0>]"
      ]
     },
     "execution_count": 135,
     "metadata": {},
     "output_type": "execute_result"
    },
    {
     "data": {
      "text/plain": [
       "<matplotlib.legend.Legend at 0x20c362c18b0>"
      ]
     },
     "execution_count": 135,
     "metadata": {},
     "output_type": "execute_result"
    },
    {
     "data": {
      "image/png": "[encoded data removed]",
      "text/plain": [
       "<Figure size 640x480 with 1 Axes>"
      ]
     },
     "metadata": {},
     "output_type": "display_data"
    }
   ],
   "source": [
    "epochs = 10\n",
    "train_losses = []\n",
    "val_losses = []\n",
    "\n",
    "for epoch in range(epochs):\n",
    "    _ = model.train()\n",
    "    epoch_loss = 0\n",
    "    for batch in train_loader:\n",
    "        inputs, targets = batch\n",
    "        optimizer.zero_grad()\n",
    "        outputs = model(inputs)\n",
    "        loss = criterion(outputs, targets)\n",
    "        loss.backward()\n",
    "        optimizer.step()\n",
    "        epoch_loss += loss.item()\n",
    "    train_losses.append(epoch_loss / len(train_loader))\n",
    "    \n",
    "    # Validation\n",
    "    _ = model.eval()\n",
    "    val_loss = 0\n",
    "    with torch.no_grad():\n",
    "        for batch in val_loader:\n",
    "            inputs, targets = batch\n",
    "            outputs = model(inputs)\n",
    "            loss = criterion(outputs, targets)\n",
    "            val_loss += loss.item()\n",
    "    val_losses.append(val_loss / len(val_loader))\n",
    "    \n",
    "    print(f\"Epoch {epoch+1}/{epochs}, Train Loss: {train_losses[-1]:.4f}, Val Loss: {val_losses[-1]:.4f}\")\n",
    "\n",
    "plt.plot(train_losses, label='Train Loss')\n",
    "plt.plot(val_losses, label='Validation Loss')\n",
    "plt.legend()\n",
    "plt.show()"
   ]
  },
  {
   "cell_type": "code",
   "execution_count": 136,
   "metadata": {},
   "outputs": [
    {
     "name": "stdout",
     "output_type": "stream",
     "text": [
      "Epoch 1/10, Train Loss: 1.9600, Val Loss: 2.0262\n",
      "Epoch 2/10, Train Loss: 1.9378, Val Loss: 2.0087\n",
      "Epoch 3/10, Train Loss: 1.9173, Val Loss: 1.9948\n",
      "Epoch 4/10, Train Loss: 1.8961, Val Loss: 1.9817\n",
      "Epoch 5/10, Train Loss: 1.8763, Val Loss: 1.9730\n",
      "Epoch 6/10, Train Loss: 1.8579, Val Loss: 1.9523\n",
      "Epoch 7/10, Train Loss: 1.8394, Val Loss: 1.9435\n",
      "Epoch 8/10, Train Loss: 1.8201, Val Loss: 1.9388\n",
      "Epoch 9/10, Train Loss: 1.8032, Val Loss: 1.9167\n",
      "Epoch 10/10, Train Loss: 1.7868, Val Loss: 1.9079\n"
     ]
    },
    {
     "data": {
      "text/plain": [
       "[<matplotlib.lines.Line2D at 0x20c17420730>]"
      ]
     },
     "execution_count": 136,
     "metadata": {},
     "output_type": "execute_result"
    },
    {
     "data": {
      "text/plain": [
       "[<matplotlib.lines.Line2D at 0x20c17420a60>]"
      ]
     },
     "execution_count": 136,
     "metadata": {},
     "output_type": "execute_result"
    },
    {
     "data": {
      "text/plain": [
       "<matplotlib.legend.Legend at 0x20c36383070>"
      ]
     },
     "execution_count": 136,
     "metadata": {},
     "output_type": "execute_result"
    },
    {
     "data": {
      "image/png": "[encoded data removed]",
      "text/plain": [
       "<Figure size 640x480 with 1 Axes>"
      ]
     },
     "metadata": {},
     "output_type": "display_data"
    }
   ],
   "source": [
    "epochs = 10\n",
    "for epoch in range(epochs):\n",
    "    _ = model.train()\n",
    "    epoch_loss = 0\n",
    "    for batch in train_loader:\n",
    "        inputs, targets = batch\n",
    "        optimizer.zero_grad()\n",
    "        outputs = model(inputs)\n",
    "        loss = criterion(outputs, targets)\n",
    "        loss.backward()\n",
    "        optimizer.step()\n",
    "        epoch_loss += loss.item()\n",
    "    train_losses.append(epoch_loss / len(train_loader))\n",
    "    \n",
    "    # Validation\n",
    "    _ = model.eval()\n",
    "    val_loss = 0\n",
    "    with torch.no_grad():\n",
    "        for batch in val_loader:\n",
    "            inputs, targets = batch\n",
    "            outputs = model(inputs)\n",
    "            loss = criterion(outputs, targets)\n",
    "            val_loss += loss.item()\n",
    "    val_losses.append(val_loss / len(val_loader))\n",
    "    \n",
    "    print(f\"Epoch {epoch+1}/{epochs}, Train Loss: {train_losses[-1]:.4f}, Val Loss: {val_losses[-1]:.4f}\")\n",
    "\n",
    "plt.plot(train_losses, label='Train Loss')\n",
    "plt.plot(val_losses, label='Validation Loss')\n",
    "plt.legend()\n",
    "plt.show()"
   ]
  },
  {
   "cell_type": "code",
   "execution_count": 137,
   "metadata": {},
   "outputs": [
    {
     "data": {
      "text/plain": [
       "FCNet3(\n",
       "  (relu): ReLU()\n",
       "  (fc1): Linear(in_features=3072, out_features=1024, bias=True)\n",
       "  (fc2): Linear(in_features=1024, out_features=64, bias=True)\n",
       "  (fc3): Linear(in_features=64, out_features=10, bias=True)\n",
       ")"
      ]
     },
     "execution_count": 137,
     "metadata": {},
     "output_type": "execute_result"
    },
    {
     "name": "stdout",
     "output_type": "stream",
     "text": [
      "Test Accuracy: 35.79%\n"
     ]
    }
   ],
   "source": [
    "model.eval()\n",
    "total, correct = 0, 0\n",
    "with torch.no_grad():\n",
    "    for batch in test_loader:\n",
    "        inputs, targets = batch\n",
    "        outputs = model(inputs)\n",
    "        _, predicted = torch.max(outputs, 1)\n",
    "        total += targets.size(0)\n",
    "        correct += (predicted == targets).sum().item()\n",
    "\n",
    "accuracy = correct / total\n",
    "print(f\"Test Accuracy: {accuracy * 100:.2f}%\")"
   ]
  },
  {
   "cell_type": "markdown",
   "metadata": {},
   "source": [
    "## 3 Layer MLP with Batch Normalization"
   ]
  },
  {
   "cell_type": "code",
   "execution_count": null,
   "metadata": {},
   "outputs": [],
   "source": [
    "class FCNet3_BN(nn.Module):\n",
    "    def __init__(self, input_size, hidden_size1,hidden_size2, output_size):\n",
    "        super(FCNet3_BN, self).__init__()\n",
    "        self.fc1 = nn.Linear(input_size, hidden_size1, bias=True)\n",
    "        self.bn1 = nn.BatchNorm1d(hidden_size1)\n",
    "        self.relu1 = nn.ReLU()\n",
    "        self.fc2 = nn.Linear(hidden_size1, hidden_size2 , bias = True)\n",
    "        self.bn2 = nn.BatchNorm1d(hidden_size2)\n",
    "        self.relu2 = nn.ReLU()\n",
    "        self.fc3 = nn.Linear(hidden_size2, output_size , bias = True)\n",
    "        \n",
    "    def forward(self, x):\n",
    "        x = self.fc1(x)\n",
    "        x = self.bn1(x)\n",
    "        x = self.relu1(x)\n",
    "        x = self.fc2(x)\n",
    "        x = self.bn2(x)\n",
    "        x = self.relu2(x)\n",
    "        x = self.fc3(x)\n",
    "        return x\n",
    "\n",
    "model = FCNet3_BN(Xtr.shape[1], 1024, 128 , len(labels))\n",
    "criterion = nn.CrossEntropyLoss()\n",
    "optimizer = optim.Adam(model.parameters(), lr = 1e-6) "
   ]
  },
  {
   "cell_type": "code",
   "execution_count": 147,
   "metadata": {},
   "outputs": [
    {
     "name": "stdout",
     "output_type": "stream",
     "text": [
      "Epoch 1/20, Train Loss: 2.1823, Val Loss: 2.0601\n",
      "Epoch 2/20, Train Loss: 2.0039, Val Loss: 1.9558\n",
      "Epoch 3/20, Train Loss: 1.9177, Val Loss: 1.8922\n",
      "Epoch 4/20, Train Loss: 1.8628, Val Loss: 1.8518\n",
      "Epoch 5/20, Train Loss: 1.8217, Val Loss: 1.8203\n",
      "Epoch 6/20, Train Loss: 1.7882, Val Loss: 1.7947\n",
      "Epoch 7/20, Train Loss: 1.7619, Val Loss: 1.7694\n",
      "Epoch 8/20, Train Loss: 1.7403, Val Loss: 1.7550\n",
      "Epoch 9/20, Train Loss: 1.7176, Val Loss: 1.7400\n",
      "Epoch 10/20, Train Loss: 1.7009, Val Loss: 1.7316\n",
      "Epoch 11/20, Train Loss: 1.6834, Val Loss: 1.7137\n",
      "Epoch 12/20, Train Loss: 1.6670, Val Loss: 1.7036\n",
      "Epoch 13/20, Train Loss: 1.6542, Val Loss: 1.6897\n",
      "Epoch 14/20, Train Loss: 1.6396, Val Loss: 1.6813\n",
      "Epoch 15/20, Train Loss: 1.6281, Val Loss: 1.6723\n",
      "Epoch 16/20, Train Loss: 1.6160, Val Loss: 1.6564\n",
      "Epoch 17/20, Train Loss: 1.6039, Val Loss: 1.6488\n",
      "Epoch 18/20, Train Loss: 1.5935, Val Loss: 1.6392\n",
      "Epoch 19/20, Train Loss: 1.5838, Val Loss: 1.6307\n",
      "Epoch 20/20, Train Loss: 1.5733, Val Loss: 1.6276\n"
     ]
    },
    {
     "data": {
      "text/plain": [
       "[<matplotlib.lines.Line2D at 0x20c36502af0>]"
      ]
     },
     "execution_count": 147,
     "metadata": {},
     "output_type": "execute_result"
    },
    {
     "data": {
      "text/plain": [
       "[<matplotlib.lines.Line2D at 0x20c365b27c0>]"
      ]
     },
     "execution_count": 147,
     "metadata": {},
     "output_type": "execute_result"
    },
    {
     "data": {
      "text/plain": [
       "<matplotlib.legend.Legend at 0x20c36509ca0>"
      ]
     },
     "execution_count": 147,
     "metadata": {},
     "output_type": "execute_result"
    },
    {
     "data": {
      "image/png": "[encoded data removed]",
      "text/plain": [
       "<Figure size 640x480 with 1 Axes>"
      ]
     },
     "metadata": {},
     "output_type": "display_data"
    }
   ],
   "source": [
    "epochs = 20\n",
    "train_losses = []\n",
    "val_losses = []\n",
    "\n",
    "for epoch in range(epochs):\n",
    "    _ = model.train()\n",
    "    epoch_loss = 0\n",
    "    for batch in train_loader:\n",
    "        inputs, targets = batch\n",
    "        optimizer.zero_grad()\n",
    "        outputs = model(inputs)\n",
    "        loss = criterion(outputs, targets)\n",
    "        loss.backward()\n",
    "        optimizer.step()\n",
    "        epoch_loss += loss.item()\n",
    "    train_losses.append(epoch_loss / len(train_loader))\n",
    "    \n",
    "    # Validation\n",
    "    _ = model.eval()\n",
    "    val_loss = 0\n",
    "    with torch.no_grad():\n",
    "        for batch in val_loader:\n",
    "            inputs, targets = batch\n",
    "            outputs = model(inputs)\n",
    "            loss = criterion(outputs, targets)\n",
    "            val_loss += loss.item()\n",
    "    val_losses.append(val_loss / len(val_loader))\n",
    "    \n",
    "    print(f\"Epoch {epoch+1}/{epochs}, Train Loss: {train_losses[-1]:.4f}, Val Loss: {val_losses[-1]:.4f}\")\n",
    "\n",
    "plt.plot(train_losses, label='Train Loss')\n",
    "plt.plot(val_losses, label='Validation Loss')\n",
    "plt.legend()\n",
    "plt.show()"
   ]
  },
  {
   "cell_type": "code",
   "execution_count": 148,
   "metadata": {},
   "outputs": [
    {
     "data": {
      "text/plain": [
       "FCNet3_BN(\n",
       "  (fc1): Linear(in_features=3072, out_features=1024, bias=True)\n",
       "  (bn1): BatchNorm1d(1024, eps=1e-05, momentum=0.1, affine=True, track_running_stats=True)\n",
       "  (relu): ReLU()\n",
       "  (fc2): Linear(in_features=1024, out_features=128, bias=True)\n",
       "  (bn2): BatchNorm1d(128, eps=1e-05, momentum=0.1, affine=True, track_running_stats=True)\n",
       "  (fc3): Linear(in_features=128, out_features=10, bias=True)\n",
       ")"
      ]
     },
     "execution_count": 148,
     "metadata": {},
     "output_type": "execute_result"
    },
    {
     "name": "stdout",
     "output_type": "stream",
     "text": [
      "Test Accuracy: 46.54%\n"
     ]
    }
   ],
   "source": [
    "model.eval()\n",
    "total, correct = 0, 0\n",
    "with torch.no_grad():\n",
    "    for batch in test_loader:\n",
    "        inputs, targets = batch\n",
    "        outputs = model(inputs)\n",
    "        _, predicted = torch.max(outputs, 1)\n",
    "        total += targets.size(0)\n",
    "        correct += (predicted == targets).sum().item()\n",
    "\n",
    "accuracy = correct / total\n",
    "print(f\"Test Accuracy: {accuracy * 100:.2f}%\")"
   ]
  },
  {
   "cell_type": "markdown",
   "metadata": {},
   "source": [
    "## 3 Layer MLP with Batch Normalization and Dropout"
   ]
  },
  {
   "cell_type": "code",
   "execution_count": 141,
   "metadata": {},
   "outputs": [],
   "source": [
    "class FCNet3_BN_DO(nn.Module):\n",
    "    def __init__(self, input_size, hidden_size1,hidden_size2, output_size):\n",
    "        super(FCNet3_BN_DO, self).__init__()\n",
    "        self.fc1 = nn.Linear(input_size, hidden_size1, bias=True)\n",
    "        self.bn1 = nn.BatchNorm1d(hidden_size1)\n",
    "        self.relu1 = nn.ReLU()\n",
    "        self.dropout1 = nn.Dropout(p=0.2)\n",
    "        self.fc2 = nn.Linear(hidden_size1, hidden_size2 , bias = True)\n",
    "        self.bn2 = nn.BatchNorm1d(hidden_size2)\n",
    "        self.relu2 = nn.ReLU()\n",
    "        self.dropout2 = nn.Dropout(p=0.1)\n",
    "        self.fc3 = nn.Linear(hidden_size2, output_size , bias = True)\n",
    "        \n",
    "    def forward(self, x):\n",
    "        x = self.fc1(x)\n",
    "        x = self.bn1(x)\n",
    "        x = self.relu1(x)\n",
    "        x = self.dropout1(x)\n",
    "        x = self.fc2(x)\n",
    "        x = self.bn2(x)\n",
    "        x = self.relu2(x)\n",
    "        x = self.dropout2(x)\n",
    "        x = self.fc3(x)\n",
    "        return x\n",
    "\n",
    "model = FCNet3_BN_DO(Xtr.shape[1], 1024, 128 , len(labels))\n",
    "criterion = nn.CrossEntropyLoss()\n",
    "optimizer = optim.Adam(model.parameters(), lr = 1e-6) "
   ]
  },
  {
   "cell_type": "code",
   "execution_count": 142,
   "metadata": {},
   "outputs": [
    {
     "name": "stdout",
     "output_type": "stream",
     "text": [
      "Epoch 1/10, Train Loss: 2.4666, Val Loss: 2.1869\n",
      "Epoch 2/10, Train Loss: 2.3503, Val Loss: 2.1086\n",
      "Epoch 3/10, Train Loss: 2.2933, Val Loss: 2.0596\n",
      "Epoch 4/10, Train Loss: 2.2412, Val Loss: 2.0273\n",
      "Epoch 5/10, Train Loss: 2.2039, Val Loss: 1.9980\n",
      "Epoch 6/10, Train Loss: 2.1767, Val Loss: 1.9749\n",
      "Epoch 7/10, Train Loss: 2.1500, Val Loss: 1.9563\n",
      "Epoch 8/10, Train Loss: 2.1334, Val Loss: 1.9401\n",
      "Epoch 9/10, Train Loss: 2.1144, Val Loss: 1.9229\n",
      "Epoch 10/10, Train Loss: 2.0931, Val Loss: 1.9139\n"
     ]
    },
    {
     "data": {
      "text/plain": [
       "[<matplotlib.lines.Line2D at 0x20c174a8310>]"
      ]
     },
     "execution_count": 142,
     "metadata": {},
     "output_type": "execute_result"
    },
    {
     "data": {
      "text/plain": [
       "[<matplotlib.lines.Line2D at 0x20c174a8640>]"
      ]
     },
     "execution_count": 142,
     "metadata": {},
     "output_type": "execute_result"
    },
    {
     "data": {
      "text/plain": [
       "<matplotlib.legend.Legend at 0x20c173ad9d0>"
      ]
     },
     "execution_count": 142,
     "metadata": {},
     "output_type": "execute_result"
    },
    {
     "data": {
      "image/png": "[encoded data removed]",
      "text/plain": [
       "<Figure size 640x480 with 1 Axes>"
      ]
     },
     "metadata": {},
     "output_type": "display_data"
    }
   ],
   "source": [
    "epochs = 10\n",
    "train_losses = []\n",
    "val_losses = []\n",
    "\n",
    "for epoch in range(epochs):\n",
    "    _ = model.train()\n",
    "    epoch_loss = 0\n",
    "    for batch in train_loader:\n",
    "        inputs, targets = batch\n",
    "        optimizer.zero_grad()\n",
    "        outputs = model(inputs)\n",
    "        loss = criterion(outputs, targets)\n",
    "        loss.backward()\n",
    "        optimizer.step()\n",
    "        epoch_loss += loss.item()\n",
    "    train_losses.append(epoch_loss / len(train_loader))\n",
    "    \n",
    "    # Validation\n",
    "    _ = model.eval()\n",
    "    val_loss = 0\n",
    "    with torch.no_grad():\n",
    "        for batch in val_loader:\n",
    "            inputs, targets = batch\n",
    "            outputs = model(inputs)\n",
    "            loss = criterion(outputs, targets)\n",
    "            val_loss += loss.item()\n",
    "    val_losses.append(val_loss / len(val_loader))\n",
    "    \n",
    "    print(f\"Epoch {epoch+1}/{epochs}, Train Loss: {train_losses[-1]:.4f}, Val Loss: {val_losses[-1]:.4f}\")\n",
    "\n",
    "plt.plot(train_losses, label='Train Loss')\n",
    "plt.plot(val_losses, label='Validation Loss')\n",
    "plt.legend()\n",
    "plt.show()"
   ]
  },
  {
   "cell_type": "code",
   "execution_count": 144,
   "metadata": {},
   "outputs": [
    {
     "name": "stdout",
     "output_type": "stream",
     "text": [
      "Epoch 1/10, Train Loss: 2.0825, Val Loss: 1.8968\n",
      "Epoch 2/10, Train Loss: 2.0639, Val Loss: 1.8902\n",
      "Epoch 3/10, Train Loss: 2.0586, Val Loss: 1.8802\n",
      "Epoch 4/10, Train Loss: 2.0447, Val Loss: 1.8735\n",
      "Epoch 5/10, Train Loss: 2.0288, Val Loss: 1.8644\n",
      "Epoch 6/10, Train Loss: 2.0211, Val Loss: 1.8564\n",
      "Epoch 7/10, Train Loss: 2.0147, Val Loss: 1.8508\n",
      "Epoch 8/10, Train Loss: 2.0071, Val Loss: 1.8441\n",
      "Epoch 9/10, Train Loss: 1.9912, Val Loss: 1.8352\n",
      "Epoch 10/10, Train Loss: 1.9859, Val Loss: 1.8280\n"
     ]
    },
    {
     "data": {
      "text/plain": [
       "[<matplotlib.lines.Line2D at 0x20c36586700>]"
      ]
     },
     "execution_count": 144,
     "metadata": {},
     "output_type": "execute_result"
    },
    {
     "data": {
      "text/plain": [
       "[<matplotlib.lines.Line2D at 0x20c36586a60>]"
      ]
     },
     "execution_count": 144,
     "metadata": {},
     "output_type": "execute_result"
    },
    {
     "data": {
      "text/plain": [
       "<matplotlib.legend.Legend at 0x20c17505370>"
      ]
     },
     "execution_count": 144,
     "metadata": {},
     "output_type": "execute_result"
    },
    {
     "data": {
      "image/png": "[encoded data removed]",
      "text/plain": [
       "<Figure size 640x480 with 1 Axes>"
      ]
     },
     "metadata": {},
     "output_type": "display_data"
    }
   ],
   "source": [
    "epochs = 10\n",
    "for epoch in range(epochs):\n",
    "    _ = model.train()\n",
    "    epoch_loss = 0\n",
    "    for batch in train_loader:\n",
    "        inputs, targets = batch\n",
    "        optimizer.zero_grad()\n",
    "        outputs = model(inputs)\n",
    "        loss = criterion(outputs, targets)\n",
    "        loss.backward()\n",
    "        optimizer.step()\n",
    "        epoch_loss += loss.item()\n",
    "    train_losses.append(epoch_loss / len(train_loader))\n",
    "    \n",
    "    # Validation\n",
    "    _ = model.eval()\n",
    "    val_loss = 0\n",
    "    with torch.no_grad():\n",
    "        for batch in val_loader:\n",
    "            inputs, targets = batch\n",
    "            outputs = model(inputs)\n",
    "            loss = criterion(outputs, targets)\n",
    "            val_loss += loss.item()\n",
    "    val_losses.append(val_loss / len(val_loader))\n",
    "    \n",
    "    print(f\"Epoch {epoch+1}/{epochs}, Train Loss: {train_losses[-1]:.4f}, Val Loss: {val_losses[-1]:.4f}\")\n",
    "\n",
    "plt.plot(train_losses, label='Train Loss')\n",
    "plt.plot(val_losses, label='Validation Loss')\n",
    "plt.legend()\n",
    "plt.show()"
   ]
  },
  {
   "cell_type": "code",
   "execution_count": 145,
   "metadata": {},
   "outputs": [
    {
     "data": {
      "text/plain": [
       "FCNet3_BN_DO(\n",
       "  (fc1): Linear(in_features=3072, out_features=1024, bias=True)\n",
       "  (bn1): BatchNorm1d(1024, eps=1e-05, momentum=0.1, affine=True, track_running_stats=True)\n",
       "  (relu): ReLU()\n",
       "  (dropout1): Dropout(p=0.5, inplace=False)\n",
       "  (fc2): Linear(in_features=1024, out_features=128, bias=True)\n",
       "  (bn2): BatchNorm1d(128, eps=1e-05, momentum=0.1, affine=True, track_running_stats=True)\n",
       "  (dropout2): Dropout(p=0.7, inplace=False)\n",
       "  (fc3): Linear(in_features=128, out_features=10, bias=True)\n",
       ")"
      ]
     },
     "execution_count": 145,
     "metadata": {},
     "output_type": "execute_result"
    },
    {
     "name": "stdout",
     "output_type": "stream",
     "text": [
      "Test Accuracy: 39.53%\n"
     ]
    }
   ],
   "source": [
    "model.eval()\n",
    "total, correct = 0, 0\n",
    "with torch.no_grad():\n",
    "    for batch in test_loader:\n",
    "        inputs, targets = batch\n",
    "        outputs = model(inputs)\n",
    "        _, predicted = torch.max(outputs, 1)\n",
    "        total += targets.size(0)\n",
    "        correct += (predicted == targets).sum().item()\n",
    "\n",
    "accuracy = correct / total\n",
    "print(f\"Test Accuracy: {accuracy * 100:.2f}%\")"
   ]
  },
  {
   "cell_type": "markdown",
   "metadata": {},
   "source": [
    "# Best Model : 3 Layer MLP with Batch Normalization\n",
    "## training for long"
   ]
  },
  {
   "cell_type": "code",
   "execution_count": null,
   "metadata": {},
   "outputs": [
    {
     "name": "stdout",
     "output_type": "stream",
     "text": [
      "Epoch 1/100, Train Loss: 2.1947, Val Loss: 2.0757\n",
      "Epoch 2/100, Train Loss: 2.0170, Val Loss: 1.9730\n",
      "Epoch 3/100, Train Loss: 1.9347, Val Loss: 1.9130\n",
      "Epoch 4/100, Train Loss: 1.8811, Val Loss: 1.8749\n",
      "Epoch 5/100, Train Loss: 1.8414, Val Loss: 1.8401\n",
      "Epoch 6/100, Train Loss: 1.8087, Val Loss: 1.8141\n",
      "Epoch 7/100, Train Loss: 1.7821, Val Loss: 1.7915\n",
      "Epoch 8/100, Train Loss: 1.7592, Val Loss: 1.7755\n",
      "Epoch 9/100, Train Loss: 1.7379, Val Loss: 1.7562\n",
      "Epoch 10/100, Train Loss: 1.7199, Val Loss: 1.7443\n",
      "Epoch 11/100, Train Loss: 1.7029, Val Loss: 1.7288\n",
      "Epoch 12/100, Train Loss: 1.6881, Val Loss: 1.7138\n",
      "Epoch 13/100, Train Loss: 1.6751, Val Loss: 1.7050\n",
      "Epoch 14/100, Train Loss: 1.6601, Val Loss: 1.6954\n",
      "Epoch 15/100, Train Loss: 1.6476, Val Loss: 1.6835\n",
      "Epoch 16/100, Train Loss: 1.6370, Val Loss: 1.6738\n",
      "Epoch 17/100, Train Loss: 1.6235, Val Loss: 1.6669\n",
      "Epoch 18/100, Train Loss: 1.6120, Val Loss: 1.6602\n",
      "Epoch 19/100, Train Loss: 1.6013, Val Loss: 1.6502\n",
      "Epoch 20/100, Train Loss: 1.5919, Val Loss: 1.6451\n",
      "Epoch 21/100, Train Loss: 1.5817, Val Loss: 1.6352\n",
      "Epoch 22/100, Train Loss: 1.5714, Val Loss: 1.6295\n",
      "Epoch 23/100, Train Loss: 1.5650, Val Loss: 1.6188\n",
      "Epoch 24/100, Train Loss: 1.5553, Val Loss: 1.6108\n",
      "Epoch 25/100, Train Loss: 1.5457, Val Loss: 1.6041\n",
      "Epoch 26/100, Train Loss: 1.5364, Val Loss: 1.5996\n",
      "Epoch 27/100, Train Loss: 1.5291, Val Loss: 1.5945\n",
      "Epoch 28/100, Train Loss: 1.5216, Val Loss: 1.5900\n",
      "Epoch 29/100, Train Loss: 1.5143, Val Loss: 1.5830\n",
      "Epoch 30/100, Train Loss: 1.5065, Val Loss: 1.5773\n",
      "Epoch 31/100, Train Loss: 1.4981, Val Loss: 1.5736\n",
      "Epoch 32/100, Train Loss: 1.4919, Val Loss: 1.5695\n",
      "Epoch 33/100, Train Loss: 1.4848, Val Loss: 1.5622\n",
      "Epoch 34/100, Train Loss: 1.4789, Val Loss: 1.5624\n",
      "Epoch 35/100, Train Loss: 1.4705, Val Loss: 1.5571\n",
      "Epoch 36/100, Train Loss: 1.4639, Val Loss: 1.5530\n",
      "Epoch 37/100, Train Loss: 1.4579, Val Loss: 1.5472\n",
      "Epoch 38/100, Train Loss: 1.4521, Val Loss: 1.5402\n",
      "Epoch 39/100, Train Loss: 1.4446, Val Loss: 1.5384\n",
      "Epoch 40/100, Train Loss: 1.4395, Val Loss: 1.5328\n",
      "Epoch 41/100, Train Loss: 1.4328, Val Loss: 1.5260\n",
      "Epoch 42/100, Train Loss: 1.4260, Val Loss: 1.5295\n",
      "Epoch 43/100, Train Loss: 1.4210, Val Loss: 1.5223\n",
      "Epoch 44/100, Train Loss: 1.4141, Val Loss: 1.5192\n",
      "Epoch 45/100, Train Loss: 1.4081, Val Loss: 1.5118\n",
      "Epoch 46/100, Train Loss: 1.4038, Val Loss: 1.5068\n",
      "Epoch 47/100, Train Loss: 1.3956, Val Loss: 1.5074\n",
      "Epoch 48/100, Train Loss: 1.3924, Val Loss: 1.5019\n",
      "Epoch 49/100, Train Loss: 1.3864, Val Loss: 1.5000\n",
      "Epoch 50/100, Train Loss: 1.3800, Val Loss: 1.4977\n",
      "Epoch 51/100, Train Loss: 1.3751, Val Loss: 1.4929\n",
      "Epoch 52/100, Train Loss: 1.3700, Val Loss: 1.4898\n",
      "Epoch 53/100, Train Loss: 1.3642, Val Loss: 1.4889\n",
      "Epoch 54/100, Train Loss: 1.3568, Val Loss: 1.4830\n",
      "Epoch 55/100, Train Loss: 1.3514, Val Loss: 1.4828\n",
      "Epoch 56/100, Train Loss: 1.3478, Val Loss: 1.4782\n",
      "Epoch 57/100, Train Loss: 1.3433, Val Loss: 1.4756\n",
      "Epoch 58/100, Train Loss: 1.3371, Val Loss: 1.4744\n",
      "Epoch 59/100, Train Loss: 1.3322, Val Loss: 1.4673\n",
      "Epoch 60/100, Train Loss: 1.3264, Val Loss: 1.4643\n",
      "Epoch 61/100, Train Loss: 1.3214, Val Loss: 1.4641\n",
      "Epoch 62/100, Train Loss: 1.3181, Val Loss: 1.4619\n",
      "Epoch 63/100, Train Loss: 1.3131, Val Loss: 1.4615\n",
      "Epoch 64/100, Train Loss: 1.3069, Val Loss: 1.4535\n",
      "Epoch 65/100, Train Loss: 1.3032, Val Loss: 1.4566\n",
      "Epoch 66/100, Train Loss: 1.2965, Val Loss: 1.4531\n",
      "Epoch 67/100, Train Loss: 1.2944, Val Loss: 1.4498\n",
      "Epoch 68/100, Train Loss: 1.2863, Val Loss: 1.4476\n",
      "Epoch 69/100, Train Loss: 1.2838, Val Loss: 1.4428\n",
      "Epoch 70/100, Train Loss: 1.2774, Val Loss: 1.4406\n",
      "Epoch 71/100, Train Loss: 1.2744, Val Loss: 1.4401\n",
      "Epoch 72/100, Train Loss: 1.2695, Val Loss: 1.4355\n",
      "Epoch 73/100, Train Loss: 1.2646, Val Loss: 1.4389\n",
      "Epoch 74/100, Train Loss: 1.2604, Val Loss: 1.4352\n",
      "Epoch 75/100, Train Loss: 1.2539, Val Loss: 1.4314\n",
      "Epoch 76/100, Train Loss: 1.2507, Val Loss: 1.4264\n",
      "Epoch 77/100, Train Loss: 1.2452, Val Loss: 1.4302\n",
      "Epoch 78/100, Train Loss: 1.2400, Val Loss: 1.4268\n",
      "Epoch 79/100, Train Loss: 1.2365, Val Loss: 1.4261\n",
      "Epoch 80/100, Train Loss: 1.2307, Val Loss: 1.4226\n",
      "Epoch 81/100, Train Loss: 1.2278, Val Loss: 1.4193\n",
      "Epoch 82/100, Train Loss: 1.2232, Val Loss: 1.4177\n",
      "Epoch 83/100, Train Loss: 1.2192, Val Loss: 1.4174\n",
      "Epoch 84/100, Train Loss: 1.2148, Val Loss: 1.4123\n",
      "Epoch 85/100, Train Loss: 1.2087, Val Loss: 1.4154\n",
      "Epoch 86/100, Train Loss: 1.2053, Val Loss: 1.4079\n",
      "Epoch 87/100, Train Loss: 1.1998, Val Loss: 1.4085\n",
      "Epoch 88/100, Train Loss: 1.1976, Val Loss: 1.4102\n",
      "Epoch 89/100, Train Loss: 1.1917, Val Loss: 1.4031\n",
      "Epoch 90/100, Train Loss: 1.1877, Val Loss: 1.4015\n",
      "Epoch 91/100, Train Loss: 1.1830, Val Loss: 1.4033\n",
      "Epoch 92/100, Train Loss: 1.1787, Val Loss: 1.4041\n",
      "Epoch 93/100, Train Loss: 1.1750, Val Loss: 1.4009\n",
      "Epoch 94/100, Train Loss: 1.1699, Val Loss: 1.3942\n",
      "Epoch 95/100, Train Loss: 1.1654, Val Loss: 1.3942\n",
      "Epoch 96/100, Train Loss: 1.1611, Val Loss: 1.3914\n",
      "Epoch 97/100, Train Loss: 1.1572, Val Loss: 1.3932\n",
      "Epoch 98/100, Train Loss: 1.1525, Val Loss: 1.3915\n",
      "Epoch 99/100, Train Loss: 1.1493, Val Loss: 1.3894\n",
      "Epoch 100/100, Train Loss: 1.1464, Val Loss: 1.3878\n"
     ]
    },
    {
     "data": {
      "text/plain": [
       "[<matplotlib.lines.Line2D at 0x1ff30cf5ac0>]"
      ]
     },
     "execution_count": 10,
     "metadata": {},
     "output_type": "execute_result"
    },
    {
     "data": {
      "text/plain": [
       "[<matplotlib.lines.Line2D at 0x1ff30cf5e20>]"
      ]
     },
     "execution_count": 10,
     "metadata": {},
     "output_type": "execute_result"
    },
    {
     "data": {
      "text/plain": [
       "<matplotlib.legend.Legend at 0x1ff30cf5d00>"
      ]
     },
     "execution_count": 10,
     "metadata": {},
     "output_type": "execute_result"
    },
    {
     "data": {
      "image/png": "[encoded data removed]",
      "text/plain": [
       "<Figure size 640x480 with 1 Axes>"
      ]
     },
     "metadata": {},
     "output_type": "display_data"
    },
    {
     "data": {
      "text/plain": [
       "FCNet3_BN(\n",
       "  (fc1): Linear(in_features=3072, out_features=1024, bias=True)\n",
       "  (bn1): BatchNorm1d(1024, eps=1e-05, momentum=0.1, affine=True, track_running_stats=True)\n",
       "  (relu): ReLU()\n",
       "  (fc2): Linear(in_features=1024, out_features=128, bias=True)\n",
       "  (bn2): BatchNorm1d(128, eps=1e-05, momentum=0.1, affine=True, track_running_stats=True)\n",
       "  (fc3): Linear(in_features=128, out_features=10, bias=True)\n",
       ")"
      ]
     },
     "execution_count": 10,
     "metadata": {},
     "output_type": "execute_result"
    },
    {
     "name": "stdout",
     "output_type": "stream",
     "text": [
      "Test Accuracy: 52.79%\n"
     ]
    }
   ],
   "source": [
    "model = FCNet3_BN(Xtr.shape[1], 1024, 128 , len(labels))\n",
    "criterion = nn.CrossEntropyLoss()\n",
    "optimizer = optim.Adam(model.parameters(), lr = 1e-6) \n",
    "\n",
    "epochs = 100\n",
    "train_losses = []\n",
    "val_losses = []\n",
    "\n",
    "saved_models = []\n",
    "\n",
    "for epoch in range(epochs):\n",
    "    _ = model.train()\n",
    "    epoch_loss = 0\n",
    "    for batch in train_loader:\n",
    "        inputs, targets = batch\n",
    "        optimizer.zero_grad()\n",
    "        outputs = model(inputs)\n",
    "        loss = criterion(outputs, targets)\n",
    "        loss.backward()\n",
    "        optimizer.step()\n",
    "        epoch_loss += loss.item()\n",
    "    train_losses.append(epoch_loss / len(train_loader))\n",
    "    \n",
    "    # Validation\n",
    "    _ = model.eval()\n",
    "    val_loss = 0\n",
    "    with torch.no_grad():\n",
    "        for batch in val_loader:\n",
    "            inputs, targets = batch\n",
    "            outputs = model(inputs)\n",
    "            loss = criterion(outputs, targets)\n",
    "            val_loss += loss.item()\n",
    "    val_losses.append(val_loss / len(val_loader))\n",
    "    \n",
    "    if epoch % (epochs//4) == 0:\n",
    "        saved_models.append(model.state_dict())\n",
    "        \n",
    "    if epoch % (epochs//10) == 0:\n",
    "        print(f\"Epoch {epoch+1}/{epochs}, Train Loss: {train_losses[-1]:.4f}, Val Loss: {val_losses[-1]:.4f}\")\n",
    "\n",
    "plt.plot(train_losses, label='Train Loss')\n",
    "plt.plot(val_losses, label='Validation Loss')\n",
    "plt.legend()\n",
    "plt.show()\n",
    "\n",
    "model.eval()\n",
    "total, correct = 0, 0\n",
    "with torch.no_grad():\n",
    "    for batch in test_loader:\n",
    "        inputs, targets = batch\n",
    "        outputs = model(inputs)\n",
    "        _, predicted = torch.max(outputs, 1)\n",
    "        total += targets.size(0)\n",
    "        correct += (predicted == targets).sum().item()\n",
    "\n",
    "accuracy = correct / total\n",
    "print(f\"Test Accuracy: {accuracy * 100:.2f}%\")"
   ]
  },
  {
   "cell_type": "code",
   "execution_count": null,
   "metadata": {},
   "outputs": [],
   "source": [
    "model.eval()\n",
    "total, correct = 0, 0\n",
    "with torch.no_grad():\n",
    "    for batch in test_loader:\n",
    "        inputs, targets = batch\n",
    "        outputs = model(inputs)\n",
    "        _, predicted = torch.max(outputs, 1)\n",
    "        total += targets.size(0)\n",
    "        correct += (predicted == targets).sum().item()\n",
    "\n",
    "accuracy = correct / total\n",
    "print(f\"Test Accuracy: {accuracy * 100:.2f}%\")"
   ]
  },
  {
   "cell_type": "code",
   "execution_count": 17,
   "metadata": {},
   "outputs": [
    {
     "data": {
      "text/plain": [
       "(torch.Size([10000, 10]), torch.Size([10000]))"
      ]
     },
     "execution_count": 17,
     "metadata": {},
     "output_type": "execute_result"
    },
    {
     "name": "stdout",
     "output_type": "stream",
     "text": [
      "Ensemble Accuracy: 52.79%\n"
     ]
    }
   ],
   "source": [
    "def ensemble_predict(models, data_loader):\n",
    "    preds = []\n",
    "    loaded_models = []\n",
    "    for mod in models :\n",
    "        model = FCNet3_BN(Xtr.shape[1], 1024, 128 , len(labels))\n",
    "        model.load_state_dict(mod) \n",
    "        model.eval()\n",
    "        loaded_models.append(model)\n",
    "    actuals = []\n",
    "    for batch in data_loader:\n",
    "        inputs, outs = batch\n",
    "        actuals.append(outs)\n",
    "        outputs = torch.zeros(inputs.shape[0], len(labels))\n",
    "        for model in loaded_models:\n",
    "            outputs += model(inputs)\n",
    "        preds.append(outputs) \n",
    "\n",
    "    accuracy = 0 \n",
    "    for i in range(len(preds)):\n",
    "        accuracy += torch.sum(preds[i].argmax(dim = 1) == actuals[i])\n",
    "    return accuracy / len(data_loader.dataset) , torch.cat(preds), torch.cat(actuals)\n",
    "\n",
    "ensemble_accuracy, preds, actuals = ensemble_predict(saved_models, test_loader)\n",
    "\n",
    "preds.shape, actuals.shape\n",
    "print(f\"Ensemble Accuracy: {ensemble_accuracy * 100:.2f}%\")"
   ]
  }
 ],
 "metadata": {
  "kernelspec": {
   "display_name": "iisc",
   "language": "python",
   "name": "iisc"
  },
  "language_info": {
   "codemirror_mode": {
    "name": "ipython",
    "version": 3
   },
   "file_extension": ".py",
   "mimetype": "text/x-python",
   "name": "python",
   "nbconvert_exporter": "python",
   "pygments_lexer": "ipython3",
   "version": "3.9.15"
  }
 },
 "nbformat": 4,
 "nbformat_minor": 2
}
